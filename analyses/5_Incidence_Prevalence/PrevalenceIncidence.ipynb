{
 "cells": [
  {
   "cell_type": "code",
   "execution_count": 1,
   "id": "victorian-preparation",
   "metadata": {},
   "outputs": [
    {
     "name": "stdout",
     "output_type": "stream",
     "text": [
      "/scratch/c.c21013066/data/ukbiobank/codings\n",
      "/scratch/c.c21013066/data/ukbiobank/codings\n"
     ]
    }
   ],
   "source": [
    "import numpy as np\n",
    "import pandas as pd\n",
    "import seaborn as sns\n",
    "from functools import reduce\n",
    "import pylab as plt\n",
    "\n",
    "from scipy import stats\n",
    "from statannot import add_stat_annotation\n",
    "\n",
    "from importlib import reload\n",
    "import itertools\n",
    "from itertools import count\n",
    "\n",
    "import itertools, collections\n",
    "import datetime\n",
    "\n",
    "import sys\n",
    "\n",
    "sys.path.insert(1,'../../resources')\n",
    "import phenotypesnew as pheno_info\n",
    "\n",
    "sys.path.insert(1,'../../resources/utils')\n",
    "import _preprocess"
   ]
  },
  {
   "cell_type": "code",
   "execution_count": 3,
   "id": "canadian-arlington",
   "metadata": {},
   "outputs": [],
   "source": [
    "data_path = '/scratch/c.c21013066/data/ukbiobank'"
   ]
  },
  {
   "cell_type": "markdown",
   "id": "aboriginal-emperor",
   "metadata": {},
   "source": [
    "# Get data\n",
    "- subset of diseased people with date and age of diagnosis\n",
    "- all people with date of birth"
   ]
  },
  {
   "cell_type": "code",
   "execution_count": 2,
   "id": "indirect-collective",
   "metadata": {},
   "outputs": [],
   "source": [
    "def float_to_datetime(age,birth):\n",
    "    year = int(age)\n",
    "    rem = age - year\n",
    "    base = birth + pd.offsets.DateOffset(years=year)\n",
    "    result = base + datetime.timedelta(seconds=(base.replace(year=base.year + 1) - base).total_seconds() * rem)\n",
    "    return result"
   ]
  },
  {
   "cell_type": "code",
   "execution_count": 4,
   "id": "leading-modern",
   "metadata": {},
   "outputs": [
    {
     "name": "stdout",
     "output_type": "stream",
     "text": [
      "(3837, 47)\n"
     ]
    }
   ],
   "source": [
    "# get data of diseased\n",
    "reload(_preprocess)\n",
    "name = 'ParkinsonDisease'\n",
    "selfname = 'ParkinsonDisease'\n",
    "gpname = 'gp_ParkinsonDisease'\n",
    "drop_healthy = 'neurology'\n",
    "\n",
    "df = pd.read_csv(f'{data_path}/sample/withGP/noOsteo/{name}.csv').set_index('eid')\n",
    "print(df.shape)\n",
    "df = _preprocess.date_to_datetime(df)\n",
    "df = _preprocess.date_to_datetime_end(df)\n",
    "df['PrevalentIncident'] = np.nan\n",
    "df[f'icd10_{name}_hospital_age'] = (df[f'icd10_{name}_hospital_date'] - df['date_birth']) / np.timedelta64(1,'Y')\n",
    "df[f'icd10_{name}_death_age'] = (df[f'icd10_{name}_death_date'] - df['date_birth']) / np.timedelta64(1,'Y')\n",
    "#df.loc[df['ParkinsonDisease_age']<0,'ParkinsonDisease_age'] = df.filter(regex=\"_age\")[df.filter(regex='_age')>0].min(axis=1)\n",
    "df.loc[df[f'{name}_prevalent']==1,'PrevalentIncident'] = 'prevalent'\n",
    "df.loc[df[f'{name}_incident']==1,'PrevalentIncident'] = 'incident'\n",
    "for source in ['death','hospital','selfreported','primarycare']:\n",
    "    df[f'{name}_{source}'] = df[f'{name}_{source}'].replace([0,1,np.nan],['',source,np.nan])\n",
    "df['source'] = df[[f'{name}_death',f'{name}_hospital',f'{name}_selfreported',f'{name}_primarycare']].apply(lambda x: ''.join(x.dropna().astype(str)),\n",
    "                                                                     axis=1)\n",
    "df['final_source'] = df[[f'icd10_{name}_hospital_age',f'icd10_{name}_death_age',f'icd9_{name}_age',f'{selfname}_age',f'{gpname}_age']].idxmin(axis='columns')\n",
    "df['final_source'] = df['final_source'].replace([f'icd10_{name}_hospital_age',f'icd10_{name}_death_age',f'icd9_{name}_age',f'{selfname}_age',f'{gpname}_age'],\n",
    "                                               ['hospital','death','hospital','selfreport','primarycare'])\n",
    "#df.loc[df[f'selfreported_{selfname}_age']<18,f'selfreported_{selfname}_age'] = np.nan\n",
    "#df.loc[df[f'{name}_age']<18,f'{name}_age'] = df.loc[df[f'{name}_age']<18,[f'icd10_{name}_age',f'icd9_{name}_age']].min(axis=1)\n",
    "df['time_to_diagnosis'] = df[f'{name}_age'] - df['visit_age']\n",
    "\n",
    "df[f'selfreported_{name}_date'] = np.nan\n",
    "selfre = df[~df[f'selfreported_{name}_age'].isna()]\n",
    "df.loc[selfre.index,f'selfreported_{name}_date'] = selfre.apply(lambda x: float_to_datetime(x[f'selfreported_{name}_age'],x['date_birth']),axis=1)\n",
    "df[f'selfreported_{name}_date'] = pd.to_datetime(df[f'selfreported_{name}_date'])\n",
    "\n",
    "# derive date of diagnosis\n",
    "df[f'{name}_date'] = df.filter(regex=f'.*{name}.*_date')[(df.filter(regex=f'.*{name}.*_date') - df[['date_birth']].values) > np.timedelta64(1,'m')].min(axis=1)"
   ]
  },
  {
   "cell_type": "code",
   "execution_count": 5,
   "id": "floating-geography",
   "metadata": {},
   "outputs": [],
   "source": [
    "# get data of complete cohort\n",
    "whole = pd.read_csv(f'{data_path}/phenotypes/demographics.csv',usecols=['eid','male','date_birth'],parse_dates=['date_birth']).set_index('eid')\n",
    "death = pd.read_csv(f'{data_path}/phenotypes/death.csv',parse_dates=['death_date']).set_index('eid')\n",
    "whole = pd.merge(whole,death,right_index=True,left_index=True,how='outer')"
   ]
  },
  {
   "cell_type": "markdown",
   "id": "canadian-nurse",
   "metadata": {},
   "source": [
    "# Incidence and Prevalence\n",
    "Normally incidence is defined as new cases during time interval and prevalence as number of cases at a specific time point. We look at specific age groups and want to know the age of diagnosis and the proportion of people getting a diagnosis at specific ages/during their lifetime. In UKBB we follow one age group over time, hence the size of the age groups develope periodically and groups disappear. We decide to look at the time intervals where everyone is the same age instead of monitoring the development over consecutive years. Meaning that we check how many get a diagnosis while they are age 30-39, 40-49 etc and how many already have a diagnosis when they are 30-39, 40-49 etc. Incidence rate could be a measure of how many more cases we can expect in the next years of follow-up.\n",
    "- age over years\n",
    "- who reaches which age group\n",
    "- at what age do people get diagnosis (incidence)\n",
    "- how many people have diagnosis at specific age ranges (prevalence)"
   ]
  },
  {
   "cell_type": "code",
   "execution_count": 6,
   "id": "concerned-lounge",
   "metadata": {},
   "outputs": [
    {
     "data": {
      "text/plain": [
       "eid\n",
       "1918908          NaN\n",
       "1984240    28.008789\n",
       "4949020     7.819462\n",
       "5149342    25.462535\n",
       "5745288    17.747113\n",
       "Name: ParkinsonDisease_age, dtype: float64"
      ]
     },
     "execution_count": 6,
     "metadata": {},
     "output_type": "execute_result"
    }
   ],
   "source": [
    "ageranges = ['30-39','40-49','50-59','60-69','70-79','80-89']\n",
    "agebins = pd.interval_range(start=30, end=90,freq=10,closed='left')\n",
    "\n",
    "df[f'{name}_agegroup'] = pd.cut(df[f'{name}_age'], agebins)\n",
    "# four not in age-group as too young at date of diagnosis\n",
    "df.loc[df[f'{name}_agegroup'].isna(),f'{name}_age']\n",
    "\n",
    "df[f'{name}_agegroup_rounded'] = pd.cut(df[f'{name}_age'].round(), agebins)\n",
    "# four not in age-group as too young at date of diagnosis\n",
    "df.loc[df[f'{name}_agegroup_rounded'].isna(),f'{name}_age']"
   ]
  },
  {
   "cell_type": "code",
   "execution_count": 7,
   "id": "respiratory-intention",
   "metadata": {},
   "outputs": [
    {
     "data": {
      "text/plain": [
       "Timestamp('2021-03-11 00:00:00')"
      ]
     },
     "execution_count": 7,
     "metadata": {},
     "output_type": "execute_result"
    }
   ],
   "source": [
    "# only have data up until March 2021, so only show until 2020\n",
    "df[f'{name}_date'].max()"
   ]
  },
  {
   "cell_type": "code",
   "execution_count": 8,
   "id": "aquatic-luther",
   "metadata": {},
   "outputs": [
    {
     "name": "stdout",
     "output_type": "stream",
     "text": [
      "        icd10_ParkinsonDisease_death_date  \\\n",
      "eid                                         \n",
      "1918908                               NaT   \n",
      "\n",
      "        icd10_ParkinsonDisease_hospital_date  \\\n",
      "eid                                            \n",
      "1918908                                  NaT   \n",
      "\n",
      "        icd9_ParkinsonDisease_hospital_date date_visit  \\\n",
      "eid                                                      \n",
      "1918908                                 NaT 2010-02-27   \n",
      "\n",
      "        gp_ParkinsonDisease_date date_birth  \\\n",
      "eid                                           \n",
      "1918908                      NaT 1959-06-15   \n",
      "\n",
      "        selfreported_ParkinsonDisease_date ParkinsonDisease_date  \n",
      "eid                                                               \n",
      "1918908                                NaT                   NaT  \n"
     ]
    }
   ],
   "source": [
    "# one with problematic date not available, remove from cohort for now\n",
    "print(df[df[f'{name}_age'].isna()].filter(regex='date'))\n",
    "remove = df[df[f'{name}_age'].isna()].index\n",
    "df = df.drop(index=remove)\n",
    "whole = whole.drop(index=remove)"
   ]
  },
  {
   "cell_type": "code",
   "execution_count": 9,
   "id": "collaborative-fleet",
   "metadata": {},
   "outputs": [],
   "source": [
    "# merge whole and df\n",
    "whole = pd.merge(whole,df[[f'{name}_age',f'{name}_date']],right_index=True,left_index=True,how='outer')"
   ]
  },
  {
   "cell_type": "code",
   "execution_count": 10,
   "id": "confused-button",
   "metadata": {},
   "outputs": [],
   "source": [
    "start = df[f'{name}_date'].min().year\n",
    "end = df[f'{name}_date'].max().year\n",
    "\n",
    "ages_whole = pd.DataFrame(index=whole.index,columns=pd.date_range(start=f'1/1/{start}', periods=63,freq='1Y').tolist())\n",
    "ages_whole.iloc[:,0] = (ages_whole.columns[0] - whole['date_birth']) / np.timedelta64(1,'Y')\n",
    "ages_whole.iloc[:,1:] = 1\n",
    "ages_ = ages_whole.cumsum(axis=1)\n",
    "age_groups_whole = ages_.apply(lambda x: pd.cut(x,agebins))\n",
    "age_group_dist_whole = age_groups_whole.apply(pd.value_counts)\n",
    "age_group_dist_whole.index = age_group_dist_whole.index.rename(f'{name}_agegroup')\n",
    "age_group_dist_whole = pd.melt(age_group_dist_whole.reset_index(),id_vars=f'{name}_agegroup',var_name=f'{name}_date',value_name='N')"
   ]
  },
  {
   "cell_type": "code",
   "execution_count": 11,
   "id": "young-patio",
   "metadata": {},
   "outputs": [
    {
     "data": {
      "text/plain": [
       "<matplotlib.legend.Legend at 0x2ae8dec6b880>"
      ]
     },
     "execution_count": 11,
     "metadata": {},
     "output_type": "execute_result"
    },
    {
     "data": {
      "image/png": "[encoded data removed]",
      "text/plain": [
       "<Figure size 432x288 with 1 Axes>"
      ]
     },
     "metadata": {
      "needs_background": "light"
     },
     "output_type": "display_data"
    }
   ],
   "source": [
    "# problem when scaling by age group proportion: ukbb follows one age group\n",
    "sns.lineplot(x=f'{name}_date',y='N',hue=f'{name}_agegroup',data =age_group_dist_whole)\n",
    "plt.legend(bbox_to_anchor=(1.05, 1), loc=2, borderaxespad=0.)"
   ]
  },
  {
   "cell_type": "code",
   "execution_count": 12,
   "id": "loaded-boutique",
   "metadata": {},
   "outputs": [
    {
     "name": "stdout",
     "output_type": "stream",
     "text": [
      "1969-12-31    484077\n",
      "1970-12-31    467869\n",
      "1971-12-31    450833\n",
      "1972-12-31    430894\n",
      "1973-12-31    409321\n",
      "               ...  \n",
      "2027-12-31       808\n",
      "2028-12-31      6274\n",
      "2029-12-31     18335\n",
      "2030-12-31     34543\n",
      "2031-12-31     51579\n",
      "Length: 63, dtype: int64\n",
      "1969-12-31    484077\n",
      "1970-12-31    467869\n",
      "1971-12-31    450833\n",
      "1972-12-31    430894\n",
      "1973-12-31    409321\n",
      "               ...  \n",
      "2027-12-31     35626\n",
      "2028-12-31     39850\n",
      "2029-12-31     49621\n",
      "2030-12-31     63145\n",
      "2031-12-31     77564\n",
      "Length: 63, dtype: int64\n"
     ]
    }
   ],
   "source": [
    "# remove people from data when dead\n",
    "# instead of age go with year, so at end of year check which age-group and whether diagnosed\n",
    "dead_N = age_groups_whole.loc[~whole['death_date'].isna()]\n",
    "start_death = whole['death_date']\n",
    "print(age_groups_whole.isna().sum())\n",
    "# retain only age group when not dead\n",
    "for year in age_groups_whole.columns:\n",
    "    age_groups_whole.loc[start_death.apply(lambda x: x.year)<=year.year,year] = np.nan\n",
    "print(age_groups_whole.isna().sum())\n",
    "age_group_dist_whole = age_groups_whole.apply(pd.value_counts)\n",
    "age_group_dist_whole.index = age_group_dist_whole.index.rename(f'{name}_agegroup')\n",
    "age_group_dist_whole = pd.melt(age_group_dist_whole.reset_index(),id_vars=f'{name}_agegroup',var_name=f'{name}_date',value_name='N')"
   ]
  },
  {
   "cell_type": "code",
   "execution_count": 13,
   "id": "dietary-simpson",
   "metadata": {},
   "outputs": [
    {
     "data": {
      "text/plain": [
       "<matplotlib.legend.Legend at 0x2ae9452cce50>"
      ]
     },
     "execution_count": 13,
     "metadata": {},
     "output_type": "execute_result"
    },
    {
     "data": {
      "image/png": "[encoded data removed]",
      "text/plain": [
       "<Figure size 432x288 with 1 Axes>"
      ]
     },
     "metadata": {
      "needs_background": "light"
     },
     "output_type": "display_data"
    }
   ],
   "source": [
    "# problem when scaling by age group proportion: ukbb follows one age group\n",
    "sns.lineplot(x=f'{name}_date',y='N',hue=f'{name}_agegroup',data =age_group_dist_whole)\n",
    "plt.legend(bbox_to_anchor=(1.05, 1), loc=2, borderaxespad=0.)"
   ]
  },
  {
   "cell_type": "code",
   "execution_count": 14,
   "id": "perceived-child",
   "metadata": {},
   "outputs": [],
   "source": [
    "# count which ages are how often in dataset\n",
    "unique = age_groups_whole.iloc[:,:-11].apply(lambda x: list(set(x)), axis = 1)\n",
    "counter = collections.Counter(itertools.chain(*list(unique.values)))"
   ]
  },
  {
   "cell_type": "code",
   "execution_count": 15,
   "id": "secure-supplement",
   "metadata": {},
   "outputs": [],
   "source": [
    "# count which ages are how often in dataset\n",
    "unique_all = age_groups_whole.apply(lambda x: list(set(x)), axis = 1)\n",
    "counter_all = collections.Counter(itertools.chain(*list(unique.values)))"
   ]
  },
  {
   "cell_type": "markdown",
   "id": "adequate-pantyhose",
   "metadata": {},
   "source": [
    "## Incidence"
   ]
  },
  {
   "cell_type": "code",
   "execution_count": 34,
   "id": "balanced-compromise",
   "metadata": {},
   "outputs": [],
   "source": [
    "# get increase in cases per year\n",
    "df_y = df.reset_index().set_index(f'{name}_date')\n",
    "#df.groupby(pd.Grouper(freq='Y'))[f'{name}_age'].agg(['size','mean'])\n",
    "incidence = df_y.groupby([pd.Grouper(freq='Y'),f'{name}_agegroup'])[f'{name}_age'].agg(['size','mean'])"
   ]
  },
  {
   "cell_type": "code",
   "execution_count": 57,
   "id": "rocky-application",
   "metadata": {},
   "outputs": [],
   "source": [
    "# instead of age go with year, so at end of year check which age-group and whether diagnosed\n",
    "# instead check for each agegroup how many get a diagnosis\n",
    "incidence_age = incidence_norm.groupby(f'{name}_agegroup').sum()\n",
    "incidence_age['N'] = pd.DataFrame.from_dict(counter,orient='index').loc[agebins]\n",
    "diseased_N = age_groups_whole.loc[df.index].iloc[:,:-11]\n",
    "start_disease = df[f'{name}_date']\n",
    "incidence = pd.DataFrame(columns=ageranges,index=pd.date_range(start=f'1/1/{start}', periods=52,freq='1Y').tolist())\n",
    "# retain only age group when diagnosed\n",
    "for year in diseased_N.columns:\n",
    "    diseased_N.loc[start_disease.apply(lambda x: x.year)>year.year,year] = np.nan\n",
    "    diseased_N.loc[start_disease.apply(lambda x: x.year)<year.year,year] = np.nan\n",
    "    diseased = diseased_N[~diseased_N[year].isna()]\n",
    "    current_agegroup = age_groups_whole.loc[diseased.index,year]\n",
    "    incidence.loc[year,:] = current_agegroup.value_counts()[agebins].values.astype(int)\n",
    "unique = diseased_N.apply(lambda x: list(set(x)), axis = 1)\n",
    "counter_diseased = collections.Counter(itertools.chain(*list(unique.values)))\n",
    "counter_diseased = pd.DataFrame.from_dict(counter_diseased,orient='index').reset_index().dropna().set_index('index').loc[agebins]\n",
    "\n",
    "incidence_age['cases'] = counter_diseased[0]\n",
    "incidence_age['percent'] = 100 / incidence_age['N'] * incidence_age['cases']\n",
    "\n",
    "incidence_age.to_csv(f'{data_path}/sample/withGP/noOsteo/IncidencePrevalence/Incidence_age_ParkinsonDisease.csv')"
   ]
  },
  {
   "cell_type": "code",
   "execution_count": 58,
   "id": "downtown-hydrogen",
   "metadata": {},
   "outputs": [
    {
     "data": {
      "text/html": [
       "<div>\n",
       "<style scoped>\n",
       "    .dataframe tbody tr th:only-of-type {\n",
       "        vertical-align: middle;\n",
       "    }\n",
       "\n",
       "    .dataframe tbody tr th {\n",
       "        vertical-align: top;\n",
       "    }\n",
       "\n",
       "    .dataframe thead th {\n",
       "        text-align: right;\n",
       "    }\n",
       "</style>\n",
       "<table border=\"1\" class=\"dataframe\">\n",
       "  <thead>\n",
       "    <tr style=\"text-align: right;\">\n",
       "      <th></th>\n",
       "      <th>N</th>\n",
       "      <th>cases</th>\n",
       "      <th>percent</th>\n",
       "    </tr>\n",
       "    <tr>\n",
       "      <th>ParkinsonDisease_agegroup</th>\n",
       "      <th></th>\n",
       "      <th></th>\n",
       "      <th></th>\n",
       "    </tr>\n",
       "  </thead>\n",
       "  <tbody>\n",
       "    <tr>\n",
       "      <th>[30, 40)</th>\n",
       "      <td>502412</td>\n",
       "      <td>20</td>\n",
       "      <td>0.003981</td>\n",
       "    </tr>\n",
       "    <tr>\n",
       "      <th>[40, 50)</th>\n",
       "      <td>502411</td>\n",
       "      <td>147</td>\n",
       "      <td>0.029259</td>\n",
       "    </tr>\n",
       "    <tr>\n",
       "      <th>[50, 60)</th>\n",
       "      <td>501809</td>\n",
       "      <td>557</td>\n",
       "      <td>0.110998</td>\n",
       "    </tr>\n",
       "    <tr>\n",
       "      <th>[60, 70)</th>\n",
       "      <td>408771</td>\n",
       "      <td>1239</td>\n",
       "      <td>0.303104</td>\n",
       "    </tr>\n",
       "    <tr>\n",
       "      <th>[70, 80)</th>\n",
       "      <td>246210</td>\n",
       "      <td>1516</td>\n",
       "      <td>0.615735</td>\n",
       "    </tr>\n",
       "    <tr>\n",
       "      <th>[80, 90)</th>\n",
       "      <td>29173</td>\n",
       "      <td>96</td>\n",
       "      <td>0.329071</td>\n",
       "    </tr>\n",
       "  </tbody>\n",
       "</table>\n",
       "</div>"
      ],
      "text/plain": [
       "                                N  cases   percent\n",
       "ParkinsonDisease_agegroup                         \n",
       "[30, 40)                   502412     20  0.003981\n",
       "[40, 50)                   502411    147  0.029259\n",
       "[50, 60)                   501809    557  0.110998\n",
       "[60, 70)                   408771   1239  0.303104\n",
       "[70, 80)                   246210   1516  0.615735\n",
       "[80, 90)                    29173     96  0.329071"
      ]
     },
     "execution_count": 58,
     "metadata": {},
     "output_type": "execute_result"
    }
   ],
   "source": [
    "incidence_age"
   ]
  },
  {
   "cell_type": "code",
   "execution_count": 38,
   "id": "desperate-bread",
   "metadata": {},
   "outputs": [],
   "source": [
    "incidence.index =incidence.index.rename(f'{name}_date')\n",
    "incidence = pd.melt(incidence.reset_index(),id_vars=f'{name}_date',var_name=f'{name}_agegroup',value_name='cases')\n",
    "incidence['cases'] = incidence['cases'].astype(int)\n",
    "incidence[f'{name}_agegroup'] = incidence[f'{name}_agegroup'].replace(ageranges,agebins)\n",
    "incidence_norm = pd.merge(age_group_dist_whole,incidence,on=[f'{name}_date',f'{name}_agegroup'])"
   ]
  },
  {
   "cell_type": "code",
   "execution_count": 31,
   "id": "polished-middle",
   "metadata": {},
   "outputs": [],
   "source": [
    "incidence_all = incidence_norm.groupby(f'{name}_date')['cases'].sum().to_frame()\n",
    "incidence_all['N'] = incidence_norm.groupby(f'{name}_date')['N'].sum()\n",
    "incidence_all['percent'] = 100/incidence_all['N'] * incidence_all['cases']\n",
    "\n",
    "incidence_all.to_csv(f'{data_path}/sample/withGP/noOsteo/IncidencePrevalence/Incidence_ParkinsonDisease.csv')"
   ]
  },
  {
   "cell_type": "markdown",
   "id": "mounted-keeping",
   "metadata": {},
   "source": [
    "## Prevalence"
   ]
  },
  {
   "cell_type": "code",
   "execution_count": 59,
   "id": "executed-apparatus",
   "metadata": {},
   "outputs": [],
   "source": [
    "# how many more cases can we expect?\n",
    "# simulate over time how many disorder and when\n",
    "def get_expected_prevalence(N):\n",
    "    prevalences_10y = np.array([4,14,(65+128)/2,(253+482)/2,(862+1282)/2,(1696+1626)/2]) / 100000\n",
    "    return N * prevalences_10y\n",
    "expected_prev_year = pd.DataFrame(columns=['N','cases'],index=pd.MultiIndex.from_product([age_groups_whole.columns,incidence_age.index],names=[f'{name}_date',f'{name}_agegroup']))\n",
    "for year in age_groups_whole.columns:\n",
    "    expected_prev_year.loc[(year,slice(None)),'N'] = age_groups_whole[year].value_counts()[agebins].values\n",
    "    expected_prev_year.loc[(year,slice(None)),'cases'] = get_expected_prevalence(expected_prev_year.loc[(year,slice(None)),'N'])\n",
    "expected_prev_year = expected_prev_year.astype(float)"
   ]
  },
  {
   "cell_type": "code",
   "execution_count": 60,
   "id": "statewide-valuation",
   "metadata": {},
   "outputs": [],
   "source": [
    "# define age groups over time course\n",
    "prevalence = pd.DataFrame(columns=ageranges,index=pd.date_range(start=f'1/1/{start}', periods=52,freq='1Y').tolist())\n",
    "for year in prevalence.index:\n",
    "    #how many have disease in each age group\n",
    "    diseased = df[df[f'{name}_date'].apply(lambda x: x.year) <=year.year]\n",
    "    current_agegroup = age_groups_whole.loc[diseased.index,year]\n",
    "    prevalence.loc[year,:] = current_agegroup.value_counts()[agebins].values.astype(int)\n",
    "# normalize prevalence\n",
    "prevalence.index = prevalence.index.rename(f'{name}_date')\n",
    "prevalence = pd.melt(prevalence.reset_index(),id_vars=f'{name}_date',var_name=f'{name}_agegroup',value_name='cases')\n",
    "prevalence['cases'] = prevalence['cases'].astype(int)\n",
    "prevalence[f'{name}_agegroup'] = prevalence[f'{name}_agegroup'].replace(ageranges,agebins)\n",
    "prevalence_norm = pd.merge(age_group_dist_whole,prevalence,on=[f'{name}_date',f'{name}_agegroup'])"
   ]
  },
  {
   "cell_type": "code",
   "execution_count": 61,
   "id": "diagnostic-complex",
   "metadata": {},
   "outputs": [],
   "source": [
    "merged = pd.merge(expected_prev_year,prevalence_norm,on=[f'{name}_date',f'{name}_agegroup'],suffixes=['_expected','_observed'],how='outer')\n",
    "merged = pd.melt(merged,id_vars=[f'{name}_agegroup',f'{name}_date','N_observed'],value_vars=['cases_observed','cases_expected'],\n",
    "                 var_name=['kind'],value_name='cases')\n",
    "merged.to_csv(f'{data_path}/sample/withGP/noOsteo/IncidencePrevalence/Prevalence_ParkinsonDisease.csv')"
   ]
  },
  {
   "cell_type": "code",
   "execution_count": 62,
   "id": "palestinian-report",
   "metadata": {},
   "outputs": [],
   "source": [
    "expected_prev_year_all = expected_prev_year.copy(deep=True)\n",
    "expected_prev_year_all = expected_prev_year_all.groupby(level=0)['cases'].sum()\n",
    "prev_year_all = prevalence_norm.copy(deep=True)\n",
    "prev_year_all = prev_year_all.groupby(f'{name}_date')['cases'].sum()\n",
    "\n",
    "expected_prev_year_all.to_csv(f'{data_path}/sample/withGP/noOsteo/IncidencePrevalence/expected_prevalence_ParkinsonDisease.csv')\n",
    "prev_year_all.to_csv(f'{data_path}/sample/withGP/noOsteo/IncidencePrevalence/observed_prevalenceParkinsonDisease.csv')"
   ]
  },
  {
   "cell_type": "code",
   "execution_count": 63,
   "id": "moral-birmingham",
   "metadata": {},
   "outputs": [],
   "source": [
    "diseased_N = age_groups_whole.loc[df.index].iloc[:,:-11]\n",
    "start_disease = df[f'{name}_date']\n",
    "# retain only age where diseased\n",
    "for year in diseased_N.columns:\n",
    "    diseased_N.loc[start_disease.apply(lambda x: x.year)>year.year,year] = np.nan\n",
    "unique = diseased_N.apply(lambda x: list(set(x)), axis = 1)\n",
    "counter_diseased = collections.Counter(itertools.chain(*list(unique.values)))\n",
    "counter_diseased = pd.DataFrame.from_dict(counter_diseased,orient='index').reset_index().dropna().set_index('index').loc[agebins]\n",
    "\n",
    "prevalence_age = incidence_age.copy()\n",
    "prevalence_age['cases'] = counter_diseased[0]\n",
    "prevalence_age['percent'] = 100 / prevalence_age['N'] * prevalence_age['cases']"
   ]
  },
  {
   "cell_type": "code",
   "execution_count": 135,
   "id": "electric-myrtle",
   "metadata": {},
   "outputs": [
    {
     "data": {
      "text/html": [
       "<div>\n",
       "<style scoped>\n",
       "    .dataframe tbody tr th:only-of-type {\n",
       "        vertical-align: middle;\n",
       "    }\n",
       "\n",
       "    .dataframe tbody tr th {\n",
       "        vertical-align: top;\n",
       "    }\n",
       "\n",
       "    .dataframe thead th {\n",
       "        text-align: right;\n",
       "    }\n",
       "</style>\n",
       "<table border=\"1\" class=\"dataframe\">\n",
       "  <thead>\n",
       "    <tr style=\"text-align: right;\">\n",
       "      <th></th>\n",
       "      <th>date_birth</th>\n",
       "      <th>ParkinsonDisease_age</th>\n",
       "      <th>ParkinsonDisease_date</th>\n",
       "    </tr>\n",
       "    <tr>\n",
       "      <th>eid</th>\n",
       "      <th></th>\n",
       "      <th></th>\n",
       "      <th></th>\n",
       "    </tr>\n",
       "  </thead>\n",
       "  <tbody>\n",
       "    <tr>\n",
       "      <th>4498770</th>\n",
       "      <td>1965-09-15</td>\n",
       "      <td>39.387530</td>\n",
       "      <td>2005-02-03 00:00:00.000000</td>\n",
       "    </tr>\n",
       "    <tr>\n",
       "      <th>5030885</th>\n",
       "      <td>1958-12-15</td>\n",
       "      <td>39.546329</td>\n",
       "      <td>1998-07-02 09:50:25.318795</td>\n",
       "    </tr>\n",
       "    <tr>\n",
       "      <th>5377609</th>\n",
       "      <td>1962-08-15</td>\n",
       "      <td>39.880353</td>\n",
       "      <td>2002-07-02 07:53:46.834227</td>\n",
       "    </tr>\n",
       "    <tr>\n",
       "      <th>5383433</th>\n",
       "      <td>1948-12-15</td>\n",
       "      <td>39.543591</td>\n",
       "      <td>1988-06-30 22:54:08.937350</td>\n",
       "    </tr>\n",
       "    <tr>\n",
       "      <th>5798600</th>\n",
       "      <td>1964-11-15</td>\n",
       "      <td>39.757148</td>\n",
       "      <td>2004-08-18 00:00:00.000000</td>\n",
       "    </tr>\n",
       "  </tbody>\n",
       "</table>\n",
       "</div>"
      ],
      "text/plain": [
       "        date_birth  ParkinsonDisease_age      ParkinsonDisease_date\n",
       "eid                                                                \n",
       "4498770 1965-09-15             39.387530 2005-02-03 00:00:00.000000\n",
       "5030885 1958-12-15             39.546329 1998-07-02 09:50:25.318795\n",
       "5377609 1962-08-15             39.880353 2002-07-02 07:53:46.834227\n",
       "5383433 1948-12-15             39.543591 1988-06-30 22:54:08.937350\n",
       "5798600 1964-11-15             39.757148 2004-08-18 00:00:00.000000"
      ]
     },
     "execution_count": 135,
     "metadata": {},
     "output_type": "execute_result"
    }
   ],
   "source": [
    "eo = diseased_N[diseased_N.stack().groupby(level=0).first().reindex(df.index)==agebins[0]].index\n",
    "eo_df = df[df[f'{name}_age']<40].index\n",
    "diff = np.setdiff1d(eo_df,eo)\n",
    "df.loc[diff,['date_birth',f'{name}_age',f'{name}_date']]"
   ]
  },
  {
   "cell_type": "code",
   "execution_count": 64,
   "id": "impossible-baptist",
   "metadata": {},
   "outputs": [],
   "source": [
    "prevalences = np.array([4,14,65,128,253,482,862,1282,1696])\n",
    "prevalences_10y = np.array([4,14,(65+128)/2,(253+482)/2,(862+1282)/2,(1696+1626)/2])\n",
    "prevalence_age['expected percent'] = prevalences_10y/1000"
   ]
  }
 ],
 "metadata": {
  "kernelspec": {
   "display_name": "Python 3",
   "language": "python",
   "name": "python3"
  },
  "language_info": {
   "codemirror_mode": {
    "name": "ipython",
    "version": 3
   },
   "file_extension": ".py",
   "mimetype": "text/x-python",
   "name": "python",
   "nbconvert_exporter": "python",
   "pygments_lexer": "ipython3",
   "version": "3.8.5"
  }
 },
 "nbformat": 4,
 "nbformat_minor": 5
}
