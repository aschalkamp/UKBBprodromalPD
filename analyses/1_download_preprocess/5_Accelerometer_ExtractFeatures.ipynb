{
 "cells": [
  {
   "cell_type": "code",
   "execution_count": 1,
   "id": "executed-ireland",
   "metadata": {},
   "outputs": [],
   "source": [
    "import numpy as np\n",
    "import pandas as pd\n",
    "import glob\n",
    "import re\n",
    "import os\n",
    "from scipy import stats\n",
    "import statsmodels.formula.api as smf\n",
    "import statsmodels.api as sm\n",
    "\n",
    "import pylab as plt\n",
    "import seaborn as sns\n",
    "from statannot import add_stat_annotation\n",
    "from functools import reduce\n",
    "\n",
    "import itertools\n",
    "import sys\n",
    "sys.path.insert(1,'/scratch/c.c21013066/software/biobankAccelerometerAnalysis/accelerometer')\n",
    "sys.path.insert(1,'/scratch/c.c21013066/UKBIOBANK_DataPreparation/phenotypes')\n",
    "import utils\n",
    "import plots"
   ]
  },
  {
   "cell_type": "code",
   "execution_count": 2,
   "id": "focused-authorization",
   "metadata": {},
   "outputs": [],
   "source": [
    "img_path = '/scratch/c.c21013066/images/ukbiobank/accelerometer/features'\n",
    "data_path = '/scratch/c.c21013066/data/ukbiobank'\n",
    "sample_path = '/scratch/c.c21013066/data/ukbiobank/sample/withGP/noOsteo'\n",
    "def plot_context():\n",
    "    sns.set_context(\"talk\", rc={\"font.size\":18,\"axes.titlesize\":18,\"axes.labelsize\":16,\"font_scale\":0.9})"
   ]
  },
  {
   "cell_type": "markdown",
   "id": "educational-blind",
   "metadata": {},
   "source": [
    "# Prepare bulk file which to download"
   ]
  },
  {
   "cell_type": "code",
   "execution_count": 4,
   "id": "concerned-airport",
   "metadata": {},
   "outputs": [],
   "source": [
    "dfs = []\n",
    "for name in ['Osteoarthritis']:#['AllCauseDementia','AllCauseParkinsonism','AlzheimerDisease','ParkinsonDisease',\n",
    "        #'MultipleSystemAtrophy','ProgressiveSupranuclearPalsy','FrontoTemporalDementia','VascularDementia',\n",
    "        #    'Dystonia']:#,'Osteoarthritis']:#,'Depression']:\n",
    "        drop_healthy='neurology'\n",
    "        merged_clean = pd.read_csv(f'{sample_path}/{name}_controlNo{drop_healthy}_acc_QC.csv').set_index('eid')\n",
    "        xnames = merged_clean.filter(regex='Average').columns.str.replace('Average','').str.replace('___','-')\n",
    "        diag_name = name\n",
    "        merged_clean['diagnosis'] = merged_clean[name].replace([0,1],['Healthy',diag_name])\n",
    "        merged_clean['acc_time_since_diagnosis'] = merged_clean[f'accelerometry_age'] - merged_clean[f'{name}_age']\n",
    "        merged_clean['acc_time_to_diagnosis'] =  merged_clean[f'{name}_age'] - merged_clean[f'accelerometry_age']\n",
    "        merged_clean['acc_incident'] = merged_clean[f'{name}_age'] > merged_clean[f'accelerometry_age']\n",
    "        merged_clean.loc[merged_clean['acc_time_since_diagnosis'].isna(),'acc_incident'] = np.nan\n",
    "        merged_clean['diagnosis_prod'] = merged_clean['diagnosis'].copy(deep=True)\n",
    "        merged_clean.loc[np.logical_and(merged_clean['acc_incident']==1,merged_clean['diagnosis']==diag_name),\n",
    "                         'diagnosis_prod'] = f'Prodromal_{diag_name}'\n",
    "        merged_clean['diagnosis_prod_conservative'] = merged_clean['diagnosis_prod'].copy(deep=True)\n",
    "        merged_clean.loc[np.logical_and(merged_clean['acc_time_to_diagnosis']<2,\n",
    "                                        merged_clean['diagnosis_prod']==f'Prodromal_{diag_name}'),\n",
    "                         'diagnosis_prod_conservative'] = diag_name\n",
    "        merged_clean = merged_clean[merged_clean['weartime_QC']==1]\n",
    "        matched_sample = merged_clean[merged_clean['diagnosis']==diag_name]\n",
    "        dfs.append(matched_sample)\n",
    "        \n",
    "df_merged = pd.concat(dfs)"
   ]
  },
  {
   "cell_type": "code",
   "execution_count": null,
   "id": "prescribed-rendering",
   "metadata": {},
   "outputs": [],
   "source": [
    "# drop duplicates\n",
    "print(df_merged.shape)\n",
    "df_merged = df_merged[~df_merged.index.duplicated(keep='first')]\n",
    "print(df_merged.shape)"
   ]
  },
  {
   "cell_type": "code",
   "execution_count": 63,
   "id": "laughing-croatia",
   "metadata": {},
   "outputs": [],
   "source": [
    "# get all downloadable IDs\n",
    "acc_ids = pd.read_csv(f'{data_path}/ukb50687.bulk',usecols=[0,1],header=None,\n",
    "                      delim_whitespace=True,names=['eid','field_id']).set_index('eid')\n",
    "drop_seasonal_repeats = acc_ids[~acc_ids.index.duplicated(keep='first')]\n",
    "n_visits = (acc_ids.groupby(level=0).size()).rename('n_visits')\n",
    "acc_ids = pd.merge(acc_ids,n_visits,right_index=True,left_index=True,how='outer')"
   ]
  },
  {
   "cell_type": "code",
   "execution_count": null,
   "id": "suspended-snapshot",
   "metadata": {},
   "outputs": [],
   "source": [
    "get_acc = pd.merge(drop_seasonal_repeats,df_merged.reset_index(),on='eid',how='right').set_index('eid')"
   ]
  },
  {
   "cell_type": "code",
   "execution_count": 6,
   "id": "proprietary-rental",
   "metadata": {},
   "outputs": [],
   "source": [
    "get_acc.to_csv(f'{data_path}/ukb50687_90001_0_0_Osteoarthritis.bulk',header=False,sep=' ')\n",
    "get_acc.to_csv(f'/scratch/scw1329/annkathrin/data/ukbiobank/ukb50687_90001_0_0_Osteoarthritis.bulk',header=False,sep=' ')"
   ]
  },
  {
   "cell_type": "code",
   "execution_count": 8,
   "id": "controlled-passing",
   "metadata": {},
   "outputs": [],
   "source": [
    "get_acc = pd.read_csv(f'{data_path}/ukb50687_90001_0_0_Osteoarthritis.bulk',sep=' ',\n",
    "                      names=['eid','field'],usecols=[0,1]).set_index('eid')\n",
    "# drop already downloaded ones\n",
    "paths = [f'{data_path}/phenotypes','/scratch/scw1329/annkathrin/data/ukbiobank']\n",
    "eids = []\n",
    "for path in paths:\n",
    "    folders = glob.glob(f\"{path}/accelerometer/*\", recursive = True)\n",
    "    #print(folders)\n",
    "    downloaded = []\n",
    "    downloaded.append(glob.glob(f\"{path}/accelerometer/*.cwa\"))\n",
    "    downloaded.append(glob.glob(f\"{path}/accelerometer/*timeSeries.csv.gz\"))\n",
    "    downloaded = list(itertools.chain(*downloaded))\n",
    "    eids.append([int(re.findall(r'\\d+', headline)[1]) for headline in downloaded])\n",
    "    downloaded = []\n",
    "    for folder in folders:\n",
    "        downloaded.append(glob.glob(f\"{folder}/*.cwa\"))\n",
    "        downloaded.append(glob.glob(f\"{folder}/*timeSeries.csv.gz\"))\n",
    "# get eid\n",
    "eids = list(itertools.chain(*eids))\n",
    "downloaded = list(itertools.chain(*downloaded))\n",
    "eids_add = [int(re.findall(r'\\d+', headline)[2]) for headline in downloaded]\n",
    "eids = np.unique(np.hstack([eids,eids_add]))\n",
    "eids_intersect = np.intersect1d(get_acc.index,eids)"
   ]
  },
  {
   "cell_type": "code",
   "execution_count": 9,
   "id": "documented-parcel",
   "metadata": {},
   "outputs": [
    {
     "name": "stdout",
     "output_type": "stream",
     "text": [
      "(6633, 1)\n"
     ]
    }
   ],
   "source": [
    "get_acc['downloaded'] = False\n",
    "get_acc.loc[eids_intersect,'downloaded'] = True\n",
    "get_acc = get_acc[get_acc['downloaded']==False].drop(columns='downloaded')\n",
    "print(get_acc.shape)"
   ]
  },
  {
   "cell_type": "code",
   "execution_count": 10,
   "id": "widespread-rental",
   "metadata": {},
   "outputs": [],
   "source": [
    "get_acc.to_csv(f'/scratch/scw1329/annkathrin/data/ukbiobank/ukb50687_90001_0_0_Osteoarthritis_remains.bulk',header=False,sep=' ')\n",
    "get_acc.to_csv(f'{data_path}/ukb50687_90001_0_0_Osteoarthritis_remains.bulk',header=False,sep=' ')"
   ]
  },
  {
   "cell_type": "code",
   "execution_count": 246,
   "id": "senior-pound",
   "metadata": {},
   "outputs": [
    {
     "name": "stdout",
     "output_type": "stream",
     "text": [
      "['/scratch/c.c21013066/data/ukbiobank/phenotypes/accelerometer/cwa_10001/', '/scratch/c.c21013066/data/ukbiobank/phenotypes/accelerometer/cwa_depr_3/']\n",
      "0 397\n"
     ]
    },
    {
     "data": {
      "text/plain": [
       "(0, 0)"
      ]
     },
     "execution_count": 246,
     "metadata": {},
     "output_type": "execute_result"
    }
   ],
   "source": [
    "# Storgae problems, so delete .cwa files are zipping them and storing on other disc\n",
    "# which ones to delete\n",
    "folders = glob.glob(f\"{data_path}/phenotypes/accelerometer/*/\", recursive = True)\n",
    "print(folders)\n",
    "alltimes = []\n",
    "allraw = []\n",
    "for folder in [f'{data_path}/phenotypes/accelerometer/cwa_depr_3/']:\n",
    "    alltimes.append(glob.glob(f\"{folder}/*timeSeries.csv.gz\"))\n",
    "    allraw.append(glob.glob(f\"{folder}/*.cwa\"))\n",
    "alltimes = list(itertools.chain(*alltimes))\n",
    "allraw = list(itertools.chain(*allraw))\n",
    "print(len(alltimes),len(allraw))\n",
    "alltimeseid = [int(re.findall(r'\\d+', headline)[2]) for headline in alltimes]\n",
    "allraweid = [int(re.findall(r'\\d+', headline)[2]) for headline in allraw]\n",
    "delete = np.setdiff1d(alltimeseid,allraweid)\n",
    "delete = np.intersect1d(allraweid,alltimeseid)\n",
    "len(delete),len(alltimeseid)"
   ]
  },
  {
   "cell_type": "code",
   "execution_count": null,
   "id": "organizational-marijuana",
   "metadata": {},
   "outputs": [],
   "source": [
    "for f in delete:\n",
    "    os.remove(os.path.join('/scratch/c.c21013066/data/ukbiobank/phenotypes/accelerometer/cwa_depr_3/',f'{f}_90001_0_0.cwa'))"
   ]
  },
  {
   "cell_type": "markdown",
   "id": "numerous-configuration",
   "metadata": {},
   "source": [
    "# Create file to lookup subjects"
   ]
  },
  {
   "cell_type": "code",
   "execution_count": 80,
   "id": "serious-strength",
   "metadata": {},
   "outputs": [],
   "source": [
    "# create lookup list of subject_eid folder\n",
    "paths = [f'{data_path}/phenotypes','/scratch/scw1329/annkathrin/data/ukbiobank']\n",
    "alltimes = []\n",
    "for path in paths:\n",
    "    alltimes.append(glob.glob(f\"{path}/accelerometer/*timeSeries.csv.gz\"))\n",
    "    folders = glob.glob(f\"{path}/accelerometer/*/\", recursive = True)\n",
    "    for folder in folders:\n",
    "        alltimes.append(glob.glob(f\"{folder}/*timeSeries.csv.gz\"))\n",
    "alltimes = list(itertools.chain(*alltimes))\n",
    "alltimes = np.unique(alltimes)"
   ]
  },
  {
   "cell_type": "code",
   "execution_count": 85,
   "id": "hairy-james",
   "metadata": {},
   "outputs": [],
   "source": [
    "table = pd.DataFrame(columns=['path','folder','eid','file'])\n",
    "table['file'] = alltimes\n",
    "table['folder'] = table['file'].str.split(\"/\").str[-2]#table['file'].str.findall(r'(\\d+)/\\d+_90001_0_0').str[0]\n",
    "table['path'] = table['file'].str.split(\"/\").str[:-1].apply('/'.join)\n",
    "table['eid'] = table['file'].str.findall(r'(\\d+)_90001_0_0').str[-1].astype(int)"
   ]
  },
  {
   "cell_type": "code",
   "execution_count": 86,
   "id": "visible-architecture",
   "metadata": {},
   "outputs": [
    {
     "name": "stdout",
     "output_type": "stream",
     "text": [
      "65902 (65928, 4)\n"
     ]
    }
   ],
   "source": [
    "print(len(np.unique(table['eid'])),table.shape)\n",
    "table = table.drop_duplicates(subset=['eid'],keep='first')"
   ]
  },
  {
   "cell_type": "code",
   "execution_count": 87,
   "id": "massive-australian",
   "metadata": {},
   "outputs": [],
   "source": [
    "table.to_csv('/scratch/c.c21013066/data/ukbiobank/phenotypes/accelerometer/subject_file_lookup.csv')"
   ]
  },
  {
   "cell_type": "markdown",
   "id": "presidential-evening",
   "metadata": {},
   "source": [
    "# Merge processed files"
   ]
  },
  {
   "cell_type": "code",
   "execution_count": 88,
   "id": "oriented-battery",
   "metadata": {
    "collapsed": true,
    "jupyter": {
     "outputs_hidden": true
    }
   },
   "outputs": [
    {
     "name": "stdout",
     "output_type": "stream",
     "text": [
      "['/scratch/c.c21013066/data/ukbiobank/phenotypes/accelerometer/to_process2/', '/scratch/c.c21013066/data/ukbiobank/phenotypes/accelerometer/cwa_10001/', '/scratch/c.c21013066/data/ukbiobank/phenotypes/accelerometer/cwa_depr_3/']\n",
      "['/scratch/scw1329/annkathrin/data/ukbiobank/accelerometer/cwa_HC_17002/', '/scratch/scw1329/annkathrin/data/ukbiobank/accelerometer/cwa_HC_31802/', '/scratch/scw1329/annkathrin/data/ukbiobank/accelerometer/cwa_HC_32102/', '/scratch/scw1329/annkathrin/data/ukbiobank/accelerometer/cwa_Ost_971/', '/scratch/scw1329/annkathrin/data/ukbiobank/accelerometer/cwa_HC_34402/', '/scratch/scw1329/annkathrin/data/ukbiobank/accelerometer/cwa_HC_27402/', '/scratch/scw1329/annkathrin/data/ukbiobank/accelerometer/cwa_HC_1902/', '/scratch/scw1329/annkathrin/data/ukbiobank/accelerometer/cwa_HC_32302/', '/scratch/scw1329/annkathrin/data/ukbiobank/accelerometer/cwa_Ost_6571/', '/scratch/scw1329/annkathrin/data/ukbiobank/accelerometer/cwa_HC_26702/', '/scratch/scw1329/annkathrin/data/ukbiobank/accelerometer/cwa_Ost_771/', '/scratch/scw1329/annkathrin/data/ukbiobank/accelerometer/cwa_HC_30702/', '/scratch/scw1329/annkathrin/data/ukbiobank/accelerometer/cwa_HC_17202/', '/scratch/scw1329/annkathrin/data/ukbiobank/accelerometer/cwa_HC_33702/', '/scratch/scw1329/annkathrin/data/ukbiobank/accelerometer/cwa_HC_17602/', '/scratch/scw1329/annkathrin/data/ukbiobank/accelerometer/cwa_HC_32902/', '/scratch/scw1329/annkathrin/data/ukbiobank/accelerometer/cwa_HC_12202/', '/scratch/scw1329/annkathrin/data/ukbiobank/accelerometer/cwa_HC_18002/', '/scratch/scw1329/annkathrin/data/ukbiobank/accelerometer/cwa_HC_15002/', '/scratch/scw1329/annkathrin/data/ukbiobank/accelerometer/cwa_HC_19202/', '/scratch/scw1329/annkathrin/data/ukbiobank/accelerometer/cwa_HC_32502/', '/scratch/scw1329/annkathrin/data/ukbiobank/accelerometer/cwa_HC_22802/', '/scratch/scw1329/annkathrin/data/ukbiobank/accelerometer/cwa_HC_3602/', '/scratch/scw1329/annkathrin/data/ukbiobank/accelerometer/cwa_Ost_671/', '/scratch/scw1329/annkathrin/data/ukbiobank/accelerometer/cwa_HC_13202/', '/scratch/scw1329/annkathrin/data/ukbiobank/accelerometer/cwa_HC_34802/', '/scratch/scw1329/annkathrin/data/ukbiobank/accelerometer/cwa_HC_22302/', '/scratch/scw1329/annkathrin/data/ukbiobank/accelerometer/cwa_HC_12002/', '/scratch/scw1329/annkathrin/data/ukbiobank/accelerometer/cwa_HC_12802/', '/scratch/scw1329/annkathrin/data/ukbiobank/accelerometer/cwa_HC_4302/', '/scratch/scw1329/annkathrin/data/ukbiobank/accelerometer/cwa_Ost_3271/', '/scratch/scw1329/annkathrin/data/ukbiobank/accelerometer/cwa_HC_32202/', '/scratch/scw1329/annkathrin/data/ukbiobank/accelerometer/cwa_Ost_2471/', '/scratch/scw1329/annkathrin/data/ukbiobank/accelerometer/cwa_HC_12602/', '/scratch/scw1329/annkathrin/data/ukbiobank/accelerometer/cwa_HC_11702/', '/scratch/scw1329/annkathrin/data/ukbiobank/accelerometer/cwa_HC_902/', '/scratch/scw1329/annkathrin/data/ukbiobank/accelerometer/cwa_HC_31202/', '/scratch/scw1329/annkathrin/data/ukbiobank/accelerometer/cwa_HC_4802/', '/scratch/scw1329/annkathrin/data/ukbiobank/accelerometer/cwa_HC_33802/', '/scratch/scw1329/annkathrin/data/ukbiobank/accelerometer/cwa_HC_2002/', '/scratch/scw1329/annkathrin/data/ukbiobank/accelerometer/cwa_HC_13102/', '/scratch/scw1329/annkathrin/data/ukbiobank/accelerometer/cwa_HC_15602/', '/scratch/scw1329/annkathrin/data/ukbiobank/accelerometer/cwa_HC_28202/', '/scratch/scw1329/annkathrin/data/ukbiobank/accelerometer/cwa_HC_22702/', '/scratch/scw1329/annkathrin/data/ukbiobank/accelerometer/cwa_HC_11902/', '/scratch/scw1329/annkathrin/data/ukbiobank/accelerometer/cwa_Ost_2771/', '/scratch/scw1329/annkathrin/data/ukbiobank/accelerometer/cwa_HC_3102/', '/scratch/scw1329/annkathrin/data/ukbiobank/accelerometer/cwa_HC_20702/', '/scratch/scw1329/annkathrin/data/ukbiobank/accelerometer/cwa_HC_34502/', '/scratch/scw1329/annkathrin/data/ukbiobank/accelerometer/cwa_HC_6102/', '/scratch/scw1329/annkathrin/data/ukbiobank/accelerometer/cwa_HC_18402/', '/scratch/scw1329/annkathrin/data/ukbiobank/accelerometer/cwa_HC_30802/', '/scratch/scw1329/annkathrin/data/ukbiobank/accelerometer/cwa_HC_6702/', '/scratch/scw1329/annkathrin/data/ukbiobank/accelerometer/cwa_HC_16302/', '/scratch/scw1329/annkathrin/data/ukbiobank/accelerometer/cwa_HC_20102/', '/scratch/scw1329/annkathrin/data/ukbiobank/accelerometer/cwa_HC_18802/', '/scratch/scw1329/annkathrin/data/ukbiobank/accelerometer/cwa_HC_19802/', '/scratch/scw1329/annkathrin/data/ukbiobank/accelerometer/cwa_Ost_3871/', '/scratch/scw1329/annkathrin/data/ukbiobank/accelerometer/cwa_HC_25402/', '/scratch/scw1329/annkathrin/data/ukbiobank/accelerometer/cwa_HC_3902/', '/scratch/scw1329/annkathrin/data/ukbiobank/accelerometer/cwa_Ost_4971/', '/scratch/scw1329/annkathrin/data/ukbiobank/accelerometer/cwa_HC_5002/', '/scratch/scw1329/annkathrin/data/ukbiobank/accelerometer/cwa_HC_31502/', '/scratch/scw1329/annkathrin/data/ukbiobank/accelerometer/cwa_HC_10802/', '/scratch/scw1329/annkathrin/data/ukbiobank/accelerometer/cwa_HC_16102/', '/scratch/scw1329/annkathrin/data/ukbiobank/accelerometer/cwa_Ost_2971/', '/scratch/scw1329/annkathrin/data/ukbiobank/accelerometer/cwa_HC_23302/', '/scratch/scw1329/annkathrin/data/ukbiobank/accelerometer/cwa_HC_27002/', '/scratch/scw1329/annkathrin/data/ukbiobank/accelerometer/cwa_HC_19502/', '/scratch/scw1329/annkathrin/data/ukbiobank/accelerometer/cwa_HC_9002/', '/scratch/scw1329/annkathrin/data/ukbiobank/accelerometer/cwa_Ost_5671/', '/scratch/scw1329/annkathrin/data/ukbiobank/accelerometer/cwa_rest_2/', '/scratch/scw1329/annkathrin/data/ukbiobank/accelerometer/cwa_HC_4602/', '/scratch/scw1329/annkathrin/data/ukbiobank/accelerometer/cwa_HC_15502/', '/scratch/scw1329/annkathrin/data/ukbiobank/accelerometer/cwa_Ost_1471/', '/scratch/scw1329/annkathrin/data/ukbiobank/accelerometer/cwa_HC_23102/', '/scratch/scw1329/annkathrin/data/ukbiobank/accelerometer/cwa_HC_23802/', '/scratch/scw1329/annkathrin/data/ukbiobank/accelerometer/to_process2/', '/scratch/scw1329/annkathrin/data/ukbiobank/accelerometer/cwa_HC_14902/', '/scratch/scw1329/annkathrin/data/ukbiobank/accelerometer/cwa_Ost_4371/', '/scratch/scw1329/annkathrin/data/ukbiobank/accelerometer/cwa_HC_19602/', '/scratch/scw1329/annkathrin/data/ukbiobank/accelerometer/cwa_HC_26402/', '/scratch/scw1329/annkathrin/data/ukbiobank/accelerometer/cwa_HC_9702/', '/scratch/scw1329/annkathrin/data/ukbiobank/accelerometer/cwa_HC_13302/', '/scratch/scw1329/annkathrin/data/ukbiobank/accelerometer/cwa_HC_13802/', '/scratch/scw1329/annkathrin/data/ukbiobank/accelerometer/cwa_HC_32602/', '/scratch/scw1329/annkathrin/data/ukbiobank/accelerometer/cwa_HC_19702/', '/scratch/scw1329/annkathrin/data/ukbiobank/accelerometer/cwa_HC_18202/', '/scratch/scw1329/annkathrin/data/ukbiobank/accelerometer/cwa_Ost_2571/', '/scratch/scw1329/annkathrin/data/ukbiobank/accelerometer/cwa_HC_29402/', '/scratch/scw1329/annkathrin/data/ukbiobank/accelerometer/cwa_HC_31702/', '/scratch/scw1329/annkathrin/data/ukbiobank/accelerometer/cwa_HC_9902/', '/scratch/scw1329/annkathrin/data/ukbiobank/accelerometer/cwa_HC_26202/', '/scratch/scw1329/annkathrin/data/ukbiobank/accelerometer/cwa_HC_22002/', '/scratch/scw1329/annkathrin/data/ukbiobank/accelerometer/cwa_HC_21202/', '/scratch/scw1329/annkathrin/data/ukbiobank/accelerometer/cwa_HC_25002/', '/scratch/scw1329/annkathrin/data/ukbiobank/accelerometer/cwa_HC_20902/', '/scratch/scw1329/annkathrin/data/ukbiobank/accelerometer/cwa_Ost_4671/', '/scratch/scw1329/annkathrin/data/ukbiobank/accelerometer/cwa_HC_33502/', '/scratch/scw1329/annkathrin/data/ukbiobank/accelerometer/cwa_HC_21702/', '/scratch/scw1329/annkathrin/data/ukbiobank/accelerometer/cwa_HC_12502/', '/scratch/scw1329/annkathrin/data/ukbiobank/accelerometer/cwa_HC_28002/', '/scratch/scw1329/annkathrin/data/ukbiobank/accelerometer/cwa_miss_2/', '/scratch/scw1329/annkathrin/data/ukbiobank/accelerometer/cwa_HC_20602/', '/scratch/scw1329/annkathrin/data/ukbiobank/accelerometer/cwa_HC_6002/', '/scratch/scw1329/annkathrin/data/ukbiobank/accelerometer/cwa_HC_29302/', '/scratch/scw1329/annkathrin/data/ukbiobank/accelerometer/cwa_HC_14402/', '/scratch/scw1329/annkathrin/data/ukbiobank/accelerometer/cwa_HC_15402/', '/scratch/scw1329/annkathrin/data/ukbiobank/accelerometer/cwa_HC_26802/', '/scratch/scw1329/annkathrin/data/ukbiobank/accelerometer/cwa_Ost_2371/', '/scratch/scw1329/annkathrin/data/ukbiobank/accelerometer/cwa_HC_17702/', '/scratch/scw1329/annkathrin/data/ukbiobank/accelerometer/cwa_HC_1802/', '/scratch/scw1329/annkathrin/data/ukbiobank/accelerometer/cwa_HC_26002/', '/scratch/scw1329/annkathrin/data/ukbiobank/accelerometer/cwa_HC_22902/', '/scratch/scw1329/annkathrin/data/ukbiobank/accelerometer/cwa_HC_18702/', '/scratch/scw1329/annkathrin/data/ukbiobank/accelerometer/cwa_HC_8202/', '/scratch/scw1329/annkathrin/data/ukbiobank/accelerometer/cwa_HC_28702/', '/scratch/scw1329/annkathrin/data/ukbiobank/accelerometer/cwa_Ost_3171/', '/scratch/scw1329/annkathrin/data/ukbiobank/accelerometer/cwa_HC_31002/', '/scratch/scw1329/annkathrin/data/ukbiobank/accelerometer/cwa_HC_29802/', '/scratch/scw1329/annkathrin/data/ukbiobank/accelerometer/cwa_HC_2702/', '/scratch/scw1329/annkathrin/data/ukbiobank/accelerometer/cwa_HC_6302/', '/scratch/scw1329/annkathrin/data/ukbiobank/accelerometer/cwa_HC_5402/', '/scratch/scw1329/annkathrin/data/ukbiobank/accelerometer/cwa_Ost_3971/', '/scratch/scw1329/annkathrin/data/ukbiobank/accelerometer/cwa_HC_10202/', '/scratch/scw1329/annkathrin/data/ukbiobank/accelerometer/cwa_HC_28602/', '/scratch/scw1329/annkathrin/data/ukbiobank/accelerometer/cwa_HC_28302/', '/scratch/scw1329/annkathrin/data/ukbiobank/accelerometer/cwa_HC_12902/', '/scratch/scw1329/annkathrin/data/ukbiobank/accelerometer/cwa_HC_802/', '/scratch/scw1329/annkathrin/data/ukbiobank/accelerometer/cwa_HC_8502/', '/scratch/scw1329/annkathrin/data/ukbiobank/accelerometer/cwa_HC_29502/', '/scratch/scw1329/annkathrin/data/ukbiobank/accelerometer/cwa_HC_30402/', '/scratch/scw1329/annkathrin/data/ukbiobank/accelerometer/cwa_HC_24302/', '/scratch/scw1329/annkathrin/data/ukbiobank/accelerometer/cwa_HC_14202/', '/scratch/scw1329/annkathrin/data/ukbiobank/accelerometer/cwa_HC_6602/', '/scratch/scw1329/annkathrin/data/ukbiobank/accelerometer/cwa_HC_5102/', '/scratch/scw1329/annkathrin/data/ukbiobank/accelerometer/cwa_HC_11502/', '/scratch/scw1329/annkathrin/data/ukbiobank/accelerometer/cwa_HC_26602/', '/scratch/scw1329/annkathrin/data/ukbiobank/accelerometer/cwa_Ost_102/', '/scratch/scw1329/annkathrin/data/ukbiobank/accelerometer/cwa_HC_9202/', '/scratch/scw1329/annkathrin/data/ukbiobank/accelerometer/cwa_HC_9302/', '/scratch/scw1329/annkathrin/data/ukbiobank/accelerometer/cwa_HC_33902/', '/scratch/scw1329/annkathrin/data/ukbiobank/accelerometer/cwa_HC_16202/', '/scratch/scw1329/annkathrin/data/ukbiobank/accelerometer/cwa_HC_19102/', '/scratch/scw1329/annkathrin/data/ukbiobank/accelerometer/cwa_HC_7302/', '/scratch/scw1329/annkathrin/data/ukbiobank/accelerometer/cwa_HC_1702/', '/scratch/scw1329/annkathrin/data/ukbiobank/accelerometer/cwa_HC_8802/', '/scratch/scw1329/annkathrin/data/ukbiobank/accelerometer/cwa_HC_7502/', '/scratch/scw1329/annkathrin/data/ukbiobank/accelerometer/cwa_HC_302/', '/scratch/scw1329/annkathrin/data/ukbiobank/accelerometer/cwa_HC_11102/', '/scratch/scw1329/annkathrin/data/ukbiobank/accelerometer/cwa_HC_7002/', '/scratch/scw1329/annkathrin/data/ukbiobank/accelerometer/to_process/', '/scratch/scw1329/annkathrin/data/ukbiobank/accelerometer/cwa_HC_34102/', '/scratch/scw1329/annkathrin/data/ukbiobank/accelerometer/cwa_HC_12702/', '/scratch/scw1329/annkathrin/data/ukbiobank/accelerometer/cwa_HC_19902/', '/scratch/scw1329/annkathrin/data/ukbiobank/accelerometer/cwa_HC_10902/', '/scratch/scw1329/annkathrin/data/ukbiobank/accelerometer/cwa_HC_27502/', '/scratch/scw1329/annkathrin/data/ukbiobank/accelerometer/cwa_HC_2402/', '/scratch/scw1329/annkathrin/data/ukbiobank/accelerometer/cwa_HC_33302/', '/scratch/scw1329/annkathrin/data/ukbiobank/accelerometer/cwa_HC_5202/', '/scratch/scw1329/annkathrin/data/ukbiobank/accelerometer/cwa_HC_13602/', '/scratch/scw1329/annkathrin/data/ukbiobank/accelerometer/cwa_HC_1202/', '/scratch/scw1329/annkathrin/data/ukbiobank/accelerometer/cwa_HC_19402/', '/scratch/scw1329/annkathrin/data/ukbiobank/accelerometer/cwa_HC_1402/', '/scratch/scw1329/annkathrin/data/ukbiobank/accelerometer/cwa_Ost_5271/', '/scratch/scw1329/annkathrin/data/ukbiobank/accelerometer/cwa_HC_4402/', '/scratch/scw1329/annkathrin/data/ukbiobank/accelerometer/cwa_HC_30302/', '/scratch/scw1329/annkathrin/data/ukbiobank/accelerometer/cwa_HC_402/', '/scratch/scw1329/annkathrin/data/ukbiobank/accelerometer/cwa_HC_26102/', '/scratch/scw1329/annkathrin/data/ukbiobank/accelerometer/cwa_HC_17502/', '/scratch/scw1329/annkathrin/data/ukbiobank/accelerometer/cwa_HC_2102/', '/scratch/scw1329/annkathrin/data/ukbiobank/accelerometer/cwa_Ost_1971/', '/scratch/scw1329/annkathrin/data/ukbiobank/accelerometer/cwa_HC_8902/', '/scratch/scw1329/annkathrin/data/ukbiobank/accelerometer/cwa_HC_29102/', '/scratch/scw1329/annkathrin/data/ukbiobank/accelerometer/cwa_HC_14302/', '/scratch/scw1329/annkathrin/data/ukbiobank/accelerometer/cwa_HC_202/', '/scratch/scw1329/annkathrin/data/ukbiobank/accelerometer/cwa_Ost_1271/', '/scratch/scw1329/annkathrin/data/ukbiobank/accelerometer/cwa_HC_24702/', '/scratch/scw1329/annkathrin/data/ukbiobank/accelerometer/cwa_HC_33102/', '/scratch/scw1329/annkathrin/data/ukbiobank/accelerometer/cwa_HC_13502/', '/scratch/scw1329/annkathrin/data/ukbiobank/accelerometer/cwa_HC_24402/', '/scratch/scw1329/annkathrin/data/ukbiobank/accelerometer/cwa_HC_32702/', '/scratch/scw1329/annkathrin/data/ukbiobank/accelerometer/cwa_HC_32002/', '/scratch/scw1329/annkathrin/data/ukbiobank/accelerometer/cwa_Ost_5171/', '/scratch/scw1329/annkathrin/data/ukbiobank/accelerometer/cwa_HC_15902/', '/scratch/scw1329/annkathrin/data/ukbiobank/accelerometer/cwa_HC_33602/', '/scratch/scw1329/annkathrin/data/ukbiobank/accelerometer/cwa_HCremain_302/', '/scratch/scw1329/annkathrin/data/ukbiobank/accelerometer/cwa_HC_20002/', '/scratch/scw1329/annkathrin/data/ukbiobank/accelerometer/cwa_HC_22202/', '/scratch/scw1329/annkathrin/data/ukbiobank/accelerometer/cwa_HC_25902/', '/scratch/scw1329/annkathrin/data/ukbiobank/accelerometer/cwa_Ost_1171/', '/scratch/scw1329/annkathrin/data/ukbiobank/accelerometer/cwa_HC_7902/', '/scratch/scw1329/annkathrin/data/ukbiobank/accelerometer/cwa_HC_12402/', '/scratch/scw1329/annkathrin/data/ukbiobank/accelerometer/cwa_HC_16602/', '/scratch/scw1329/annkathrin/data/ukbiobank/accelerometer/cwa_Ost_3071/', '/scratch/scw1329/annkathrin/data/ukbiobank/accelerometer/cwa_HC_27802/', '/scratch/scw1329/annkathrin/data/ukbiobank/accelerometer/cwa_Ost_3671/', '/scratch/scw1329/annkathrin/data/ukbiobank/accelerometer/cwa_HC_12302/', '/scratch/scw1329/annkathrin/data/ukbiobank/accelerometer/cwa_HC_3202/', '/scratch/scw1329/annkathrin/data/ukbiobank/accelerometer/cwa_HC_5302/', '/scratch/scw1329/annkathrin/data/ukbiobank/accelerometer/cwa_HC_30202/', '/scratch/scw1329/annkathrin/data/ukbiobank/accelerometer/cwa_HC_6202/', '/scratch/scw1329/annkathrin/data/ukbiobank/accelerometer/cwa_HC_31602/', '/scratch/scw1329/annkathrin/data/ukbiobank/accelerometer/cwa_HC_2602/', '/scratch/scw1329/annkathrin/data/ukbiobank/accelerometer/cwa_HC_6902/', '/scratch/scw1329/annkathrin/data/ukbiobank/accelerometer/cwa_HC_9102/', '/scratch/scw1329/annkathrin/data/ukbiobank/accelerometer/cwa_HCremain_402/', '/scratch/scw1329/annkathrin/data/ukbiobank/accelerometer/cwa_HC_8102/', '/scratch/scw1329/annkathrin/data/ukbiobank/accelerometer/cwa_HC_2802/', '/scratch/scw1329/annkathrin/data/ukbiobank/accelerometer/cwa_HC_34902/', '/scratch/scw1329/annkathrin/data/ukbiobank/accelerometer/cwa_HC_3802/', '/scratch/scw1329/annkathrin/data/ukbiobank/accelerometer/cwa_HC_30602/', '/scratch/scw1329/annkathrin/data/ukbiobank/accelerometer/cwa_HC_15802/', '/scratch/scw1329/annkathrin/data/ukbiobank/accelerometer/cwa_HC_32802/', '/scratch/scw1329/annkathrin/data/ukbiobank/accelerometer/cwa_HC_23702/', '/scratch/scw1329/annkathrin/data/ukbiobank/accelerometer/cwa_Ost_4571/', '/scratch/scw1329/annkathrin/data/ukbiobank/accelerometer/cwa_Ost_302/', '/scratch/scw1329/annkathrin/data/ukbiobank/accelerometer/cwa_HC_16902/', '/scratch/scw1329/annkathrin/data/ukbiobank/accelerometer/cwa_HC_23602/', '/scratch/scw1329/annkathrin/data/ukbiobank/accelerometer/cwa_HC_12102/', '/scratch/scw1329/annkathrin/data/ukbiobank/accelerometer/cwa_HC_21402/', '/scratch/scw1329/annkathrin/data/ukbiobank/accelerometer/cwa_HC_3702/', '/scratch/scw1329/annkathrin/data/ukbiobank/accelerometer/cwa_HC_1302/', '/scratch/scw1329/annkathrin/data/ukbiobank/accelerometer/cwa_HC_29602/', '/scratch/scw1329/annkathrin/data/ukbiobank/accelerometer/cwa_HC_16502/', '/scratch/scw1329/annkathrin/data/ukbiobank/accelerometer/cwa_HC_17402/', '/scratch/scw1329/annkathrin/data/ukbiobank/accelerometer/cwa_HC_20402/', '/scratch/scw1329/annkathrin/data/ukbiobank/accelerometer/cwa_HC_8702/', '/scratch/scw1329/annkathrin/data/ukbiobank/accelerometer/cwa_HC_5702/', '/scratch/scw1329/annkathrin/data/ukbiobank/accelerometer/cwa_Ost_4171/', '/scratch/scw1329/annkathrin/data/ukbiobank/accelerometer/cwa_HC_22602/', '/scratch/scw1329/annkathrin/data/ukbiobank/accelerometer/cwa_HC_34002/', '/scratch/scw1329/annkathrin/data/ukbiobank/accelerometer/cwa_HC_3002/', '/scratch/scw1329/annkathrin/data/ukbiobank/accelerometer/cwa_HC_7202/', '/scratch/scw1329/annkathrin/data/ukbiobank/accelerometer/cwa_HC_8402/', '/scratch/scw1329/annkathrin/data/ukbiobank/accelerometer/cwa_HC_5902/', '/scratch/scw1329/annkathrin/data/ukbiobank/accelerometer/cwa_HC_10302/', '/scratch/scw1329/annkathrin/data/ukbiobank/accelerometer/cwa_Ost_4271/', '/scratch/scw1329/annkathrin/data/ukbiobank/accelerometer/cwa_HC_21002/', '/scratch/scw1329/annkathrin/data/ukbiobank/accelerometer/cwa_HC_15202/', '/scratch/scw1329/annkathrin/data/ukbiobank/accelerometer/cwa_HC_7602/', '/scratch/scw1329/annkathrin/data/ukbiobank/accelerometer/cwa_HC_13402/', '/scratch/scw1329/annkathrin/data/ukbiobank/accelerometer/cwa_Ost_2071/', '/scratch/scw1329/annkathrin/data/ukbiobank/accelerometer/cwa_HC_20802/', '/scratch/scw1329/annkathrin/data/ukbiobank/accelerometer/cwa_HC_18102/', '/scratch/scw1329/annkathrin/data/ukbiobank/accelerometer/cwa_HC_4502/', '/scratch/scw1329/annkathrin/data/ukbiobank/accelerometer/cwa_HC_2902/', '/scratch/scw1329/annkathrin/data/ukbiobank/accelerometer/cwa_HC_25502/', '/scratch/scw1329/annkathrin/data/ukbiobank/accelerometer/cwa_HC_34202/', '/scratch/scw1329/annkathrin/data/ukbiobank/accelerometer/cwa_HC_2202/', '/scratch/scw1329/annkathrin/data/ukbiobank/accelerometer/cwa_Ost_2171/', '/scratch/scw1329/annkathrin/data/ukbiobank/accelerometer/cwa_HC_14502/', '/scratch/scw1329/annkathrin/data/ukbiobank/accelerometer/cwa_HC_33002/', '/scratch/scw1329/annkathrin/data/ukbiobank/accelerometer/cwa_HC_3502/', '/scratch/scw1329/annkathrin/data/ukbiobank/accelerometer/cwa_HC_19002/', '/scratch/scw1329/annkathrin/data/ukbiobank/accelerometer/cwa_HC_32402/', '/scratch/scw1329/annkathrin/data/ukbiobank/accelerometer/cwa_HC_30502/', '/scratch/scw1329/annkathrin/data/ukbiobank/accelerometer/cwa_Ost_871/', '/scratch/scw1329/annkathrin/data/ukbiobank/accelerometer/cwa_HC_102/', '/scratch/scw1329/annkathrin/data/ukbiobank/accelerometer/cwa_HC_1502/', '/scratch/scw1329/annkathrin/data/ukbiobank/accelerometer/cwa_Ost_6071/', '/scratch/scw1329/annkathrin/data/ukbiobank/accelerometer/cwa_HC_26902/', '/scratch/scw1329/annkathrin/data/ukbiobank/accelerometer/cwa_HC_10002/', '/scratch/scw1329/annkathrin/data/ukbiobank/accelerometer/cwa_Ost_6271/', '/scratch/scw1329/annkathrin/data/ukbiobank/accelerometer/cwa_HC_27102/', '/scratch/scw1329/annkathrin/data/ukbiobank/accelerometer/cwa_HC_2502/', '/scratch/scw1329/annkathrin/data/ukbiobank/accelerometer/cwa_Ost_5371/', '/scratch/scw1329/annkathrin/data/ukbiobank/accelerometer/cwa_HC_15702/', '/scratch/scw1329/annkathrin/data/ukbiobank/accelerometer/cwa_HC_13702/', '/scratch/scw1329/annkathrin/data/ukbiobank/accelerometer/cwa_HC_16002/', '/scratch/scw1329/annkathrin/data/ukbiobank/accelerometer/cwa_HC_24002/', '/scratch/scw1329/annkathrin/data/ukbiobank/accelerometer/cwa_HC_28502/', '/scratch/scw1329/annkathrin/data/ukbiobank/accelerometer/cwa_HC_25202/', '/scratch/scw1329/annkathrin/data/ukbiobank/accelerometer/cwa_HC_17102/', '/scratch/scw1329/annkathrin/data/ukbiobank/accelerometer/cwa_HC_2302/', '/scratch/scw1329/annkathrin/data/ukbiobank/accelerometer/cwa_Ost_6371/', '/scratch/scw1329/annkathrin/data/ukbiobank/accelerometer/cwa_HC_22102/', '/scratch/scw1329/annkathrin/data/ukbiobank/accelerometer/cwa_HC_1102/', '/scratch/scw1329/annkathrin/data/ukbiobank/accelerometer/cwa_HC_30102/', '/scratch/scw1329/annkathrin/data/ukbiobank/accelerometer/cwa_HC_14802/', '/scratch/scw1329/annkathrin/data/ukbiobank/accelerometer/cwa_HCremain_102/', '/scratch/scw1329/annkathrin/data/ukbiobank/accelerometer/cwa_Ost_3771/', '/scratch/scw1329/annkathrin/data/ukbiobank/accelerometer/cwa_HC_5502/', '/scratch/scw1329/annkathrin/data/ukbiobank/accelerometer/cwa_Ost_1371/', '/scratch/scw1329/annkathrin/data/ukbiobank/accelerometer/cwa_HC_3402/', '/scratch/scw1329/annkathrin/data/ukbiobank/accelerometer/cwa_HC_24602/', '/scratch/scw1329/annkathrin/data/ukbiobank/accelerometer/cwa_HC_24802/', '/scratch/scw1329/annkathrin/data/ukbiobank/accelerometer/cwa_HC_6402/', '/scratch/scw1329/annkathrin/data/ukbiobank/accelerometer/cwa_HC_702/', '/scratch/scw1329/annkathrin/data/ukbiobank/accelerometer/cwa_HC_29902/', '/scratch/scw1329/annkathrin/data/ukbiobank/accelerometer/cwa_HC_8602/', '/scratch/scw1329/annkathrin/data/ukbiobank/accelerometer/cwa_HC_7402/', '/scratch/scw1329/annkathrin/data/ukbiobank/accelerometer/cwa_HC_17302/', '/scratch/scw1329/annkathrin/data/ukbiobank/accelerometer/cwa_Ost_5971/', '/scratch/scw1329/annkathrin/data/ukbiobank/accelerometer/cwa_HC_24202/', '/scratch/scw1329/annkathrin/data/ukbiobank/accelerometer/cwa_Ost_3471/', '/scratch/scw1329/annkathrin/data/ukbiobank/accelerometer/cwa_HC_30002/', '/scratch/scw1329/annkathrin/data/ukbiobank/accelerometer/cwa_HC_15102/', '/scratch/scw1329/annkathrin/data/ukbiobank/accelerometer/cwa_Ost_6471/', '/scratch/scw1329/annkathrin/data/ukbiobank/accelerometer/cwa_HC_15302/', '/scratch/scw1329/annkathrin/data/ukbiobank/accelerometer/cwa_Ost_1771/', '/scratch/scw1329/annkathrin/data/ukbiobank/accelerometer/cwa_HC_8302/', '/scratch/scw1329/annkathrin/data/ukbiobank/accelerometer/cwa_Ost_1071/', '/scratch/scw1329/annkathrin/data/ukbiobank/accelerometer/cwa_HC_28102/', '/scratch/scw1329/annkathrin/data/ukbiobank/accelerometer/cwa_HC_30902/', '/scratch/scw1329/annkathrin/data/ukbiobank/accelerometer/cwa_HC_16402/', '/scratch/scw1329/annkathrin/data/ukbiobank/accelerometer/cwa_HC_24502/', '/scratch/scw1329/annkathrin/data/ukbiobank/accelerometer/cwa_HC_11302/', '/scratch/scw1329/annkathrin/data/ukbiobank/accelerometer/cwa_HC_6802/', '/scratch/scw1329/annkathrin/data/ukbiobank/accelerometer/cwa_HC_5802/', '/scratch/scw1329/annkathrin/data/ukbiobank/accelerometer/cwa_HC_7802/', '/scratch/scw1329/annkathrin/data/ukbiobank/accelerometer/cwa_Ost_1871/', '/scratch/scw1329/annkathrin/data/ukbiobank/accelerometer/cwa_HC_22502/', '/scratch/scw1329/annkathrin/data/ukbiobank/accelerometer/cwa_Ost_5571/', '/scratch/scw1329/annkathrin/data/ukbiobank/accelerometer/cwa_Ost_1571/', '/scratch/scw1329/annkathrin/data/ukbiobank/accelerometer/cwa_HC_10502/', '/scratch/scw1329/annkathrin/data/ukbiobank/accelerometer/cwa_HC_23502/', '/scratch/scw1329/annkathrin/data/ukbiobank/accelerometer/cwa_HC_4902/', '/scratch/scw1329/annkathrin/data/ukbiobank/accelerometer/cwa_HC_26302/', '/scratch/scw1329/annkathrin/data/ukbiobank/accelerometer/cwa_HC_11802/', '/scratch/scw1329/annkathrin/data/ukbiobank/accelerometer/cwa_HC_13902/', '/scratch/scw1329/annkathrin/data/ukbiobank/accelerometer/cwa_HC_29002/', '/scratch/scw1329/annkathrin/data/ukbiobank/accelerometer/cwa_Ost_4471/', '/scratch/scw1329/annkathrin/data/ukbiobank/accelerometer/cwa_HC_14702/', '/scratch/scw1329/annkathrin/data/ukbiobank/accelerometer/cwa_Ost_5871/', '/scratch/scw1329/annkathrin/data/ukbiobank/accelerometer/cwa_HC_14602/', '/scratch/scw1329/annkathrin/data/ukbiobank/accelerometer/cwa_HC_4102/', '/scratch/scw1329/annkathrin/data/ukbiobank/accelerometer/cwa_HC_17902/', '/scratch/scw1329/annkathrin/data/ukbiobank/accelerometer/cwa_HC_29202/', '/scratch/scw1329/annkathrin/data/ukbiobank/accelerometer/cwa_HC_34702/', '/scratch/scw1329/annkathrin/data/ukbiobank/accelerometer/cwa_HC_9502/', '/scratch/scw1329/annkathrin/data/ukbiobank/accelerometer/cwa_HC_11002/', '/scratch/scw1329/annkathrin/data/ukbiobank/accelerometer/cwa_HC_31402/', '/scratch/scw1329/annkathrin/data/ukbiobank/accelerometer/cwa_HC_25102/', '/scratch/scw1329/annkathrin/data/ukbiobank/accelerometer/cwa_HC_21502/', '/scratch/scw1329/annkathrin/data/ukbiobank/accelerometer/cwa_HC_21902/', '/scratch/scw1329/annkathrin/data/ukbiobank/accelerometer/cwa_HCremain_2/', '/scratch/scw1329/annkathrin/data/ukbiobank/accelerometer/cwa_HC_25602/', '/scratch/scw1329/annkathrin/data/ukbiobank/accelerometer/cwa_HC_23402/', '/scratch/scw1329/annkathrin/data/ukbiobank/accelerometer/cwa_Ost_202/', '/scratch/scw1329/annkathrin/data/ukbiobank/accelerometer/cwa_HC_10702/', '/scratch/scw1329/annkathrin/data/ukbiobank/accelerometer/cwa_Ost_2/', '/scratch/scw1329/annkathrin/data/ukbiobank/accelerometer/cwa_HC_602/', '/scratch/scw1329/annkathrin/data/ukbiobank/accelerometer/cwa_Ost_5771/', '/scratch/scw1329/annkathrin/data/ukbiobank/accelerometer/cwa_HC_22402/', '/scratch/scw1329/annkathrin/data/ukbiobank/accelerometer/cwa_HC_21102/', '/scratch/scw1329/annkathrin/data/ukbiobank/accelerometer/cwa_HC_25302/', '/scratch/scw1329/annkathrin/data/ukbiobank/accelerometer/cwa_HC_33202/', '/scratch/scw1329/annkathrin/data/ukbiobank/accelerometer/cwa_Ost_4771/', '/scratch/scw1329/annkathrin/data/ukbiobank/accelerometer/cwa_HC_16702/', '/scratch/scw1329/annkathrin/data/ukbiobank/accelerometer/cwa_HC_27202/', '/scratch/scw1329/annkathrin/data/ukbiobank/accelerometer/cwa_HC_20302/', '/scratch/scw1329/annkathrin/data/ukbiobank/accelerometer/cwa_HC_19302/', '/scratch/scw1329/annkathrin/data/ukbiobank/accelerometer/cwa_HC_31902/', '/scratch/scw1329/annkathrin/data/ukbiobank/accelerometer/cwa_HC_18602/', '/scratch/scw1329/annkathrin/data/ukbiobank/accelerometer/cwa_HCremain_502/', '/scratch/scw1329/annkathrin/data/ukbiobank/accelerometer/cwa_HC_24102/', '/scratch/scw1329/annkathrin/data/ukbiobank/accelerometer/cwa_Ost_5471/', '/scratch/scw1329/annkathrin/data/ukbiobank/accelerometer/cwa_HC_7102/', '/scratch/scw1329/annkathrin/data/ukbiobank/accelerometer/cwa_HC_27602/', '/scratch/scw1329/annkathrin/data/ukbiobank/accelerometer/to_process3/', '/scratch/scw1329/annkathrin/data/ukbiobank/accelerometer/cwa_Ost_602/', '/scratch/scw1329/annkathrin/data/ukbiobank/accelerometer/cwa_HC_26502/', '/scratch/scw1329/annkathrin/data/ukbiobank/accelerometer/cwa_HC_13002/', '/scratch/scw1329/annkathrin/data/ukbiobank/accelerometer/cwa_HC_28802/', '/scratch/scw1329/annkathrin/data/ukbiobank/accelerometer/cwa_HC_28902/', '/scratch/scw1329/annkathrin/data/ukbiobank/accelerometer/cwa_HC_27902/', '/scratch/scw1329/annkathrin/data/ukbiobank/accelerometer/cwa_HC_9802/', '/scratch/scw1329/annkathrin/data/ukbiobank/accelerometer/cwa_HC_23002/', '/scratch/scw1329/annkathrin/data/ukbiobank/accelerometer/cwa_HC_11602/', '/scratch/scw1329/annkathrin/data/ukbiobank/accelerometer/cwa_HC_4702/', '/scratch/scw1329/annkathrin/data/ukbiobank/accelerometer/cwa_HC_33402/', '/scratch/scw1329/annkathrin/data/ukbiobank/accelerometer/cwa_HCremain_202/', '/scratch/scw1329/annkathrin/data/ukbiobank/accelerometer/cwa_Ost_502/', '/scratch/scw1329/annkathrin/data/ukbiobank/accelerometer/cwa_HC_10402/', '/scratch/scw1329/annkathrin/data/ukbiobank/accelerometer/cwa_HC_4002/', '/scratch/scw1329/annkathrin/data/ukbiobank/accelerometer/cwa_HC_2/', '/scratch/scw1329/annkathrin/data/ukbiobank/accelerometer/cwa_HC_27302/', '/scratch/scw1329/annkathrin/data/ukbiobank/accelerometer/cwa_HC_1002/', '/scratch/scw1329/annkathrin/data/ukbiobank/accelerometer/cwa_Ost_3571/', '/scratch/scw1329/annkathrin/data/ukbiobank/accelerometer/cwa_Ost_4871/', '/scratch/scw1329/annkathrin/data/ukbiobank/accelerometer/cwa_Ost_2271/', '/scratch/scw1329/annkathrin/data/ukbiobank/accelerometer/cwa_HC_9402/', '/scratch/scw1329/annkathrin/data/ukbiobank/accelerometer/cwa_HC_27702/', '/scratch/scw1329/annkathrin/data/ukbiobank/accelerometer/cwa_HC_31102/', '/scratch/scw1329/annkathrin/data/ukbiobank/accelerometer/cwa_HC_31302/', '/scratch/scw1329/annkathrin/data/ukbiobank/accelerometer/cwa_HC_23202/', '/scratch/scw1329/annkathrin/data/ukbiobank/accelerometer/cwa_HC_9602/', '/scratch/scw1329/annkathrin/data/ukbiobank/accelerometer/cwa_HC_28402/', '/scratch/scw1329/annkathrin/data/ukbiobank/accelerometer/cwa_HC_18902/', '/scratch/scw1329/annkathrin/data/ukbiobank/accelerometer/cwa_HC_5602/', '/scratch/scw1329/annkathrin/data/ukbiobank/accelerometer/cwa_HC_18502/', '/scratch/scw1329/annkathrin/data/ukbiobank/accelerometer/cwa_Ost_402/', '/scratch/scw1329/annkathrin/data/ukbiobank/accelerometer/cwa_Ost_6171/', '/scratch/scw1329/annkathrin/data/ukbiobank/accelerometer/cwa_HC_7702/', '/scratch/scw1329/annkathrin/data/ukbiobank/accelerometer/cwa_Ost_2671/', '/scratch/scw1329/annkathrin/data/ukbiobank/accelerometer/cwa_HC_21602/', '/scratch/scw1329/annkathrin/data/ukbiobank/accelerometer/cwa_Ost_1671/', '/scratch/scw1329/annkathrin/data/ukbiobank/accelerometer/cwa_HC_14102/', '/scratch/scw1329/annkathrin/data/ukbiobank/accelerometer/cwa_HC_14002/', '/scratch/scw1329/annkathrin/data/ukbiobank/accelerometer/cwa_HC_6502/', '/scratch/scw1329/annkathrin/data/ukbiobank/accelerometer/cwa_Ost_5071/', '/scratch/scw1329/annkathrin/data/ukbiobank/accelerometer/cwa_HC_23902/', '/scratch/scw1329/annkathrin/data/ukbiobank/accelerometer/cwa_HC_11402/', '/scratch/scw1329/annkathrin/data/ukbiobank/accelerometer/cwa_HC_29702/', '/scratch/scw1329/annkathrin/data/ukbiobank/accelerometer/cwa_HC_8002/', '/scratch/scw1329/annkathrin/data/ukbiobank/accelerometer/cwa_HC_17802/', '/scratch/scw1329/annkathrin/data/ukbiobank/accelerometer/cwa_HC_25802/', '/scratch/scw1329/annkathrin/data/ukbiobank/accelerometer/cwa_HC_25702/', '/scratch/scw1329/annkathrin/data/ukbiobank/accelerometer/cwa_Ost_2871/', '/scratch/scw1329/annkathrin/data/ukbiobank/accelerometer/cwa_HC_16802/', '/scratch/scw1329/annkathrin/data/ukbiobank/accelerometer/cwa_HC_3302/', '/scratch/scw1329/annkathrin/data/ukbiobank/accelerometer/cwa_HC_20502/', '/scratch/scw1329/annkathrin/data/ukbiobank/accelerometer/cwa_HCremain_602/', '/scratch/scw1329/annkathrin/data/ukbiobank/accelerometer/cwa_HC_18302/', '/scratch/scw1329/annkathrin/data/ukbiobank/accelerometer/cwa_HC_4202/', '/scratch/scw1329/annkathrin/data/ukbiobank/accelerometer/cwa_HC_10602/', '/scratch/scw1329/annkathrin/data/ukbiobank/accelerometer/cwa_Ost_4071/', '/scratch/scw1329/annkathrin/data/ukbiobank/accelerometer/cwa_HC_10102/', '/scratch/scw1329/annkathrin/data/ukbiobank/accelerometer/cwa_HC_20202/', '/scratch/scw1329/annkathrin/data/ukbiobank/accelerometer/cwa_HC_1602/', '/scratch/scw1329/annkathrin/data/ukbiobank/accelerometer/cwa_HC_34302/', '/scratch/scw1329/annkathrin/data/ukbiobank/accelerometer/cwa_HC_21802/', '/scratch/scw1329/annkathrin/data/ukbiobank/accelerometer/cwa_Ost_3371/', '/scratch/scw1329/annkathrin/data/ukbiobank/accelerometer/cwa_HC_11202/', '/scratch/scw1329/annkathrin/data/ukbiobank/accelerometer/cwa_HC_34602/', '/scratch/scw1329/annkathrin/data/ukbiobank/accelerometer/cwa_HC_502/', '/scratch/scw1329/annkathrin/data/ukbiobank/accelerometer/cwa_HC_21302/', '/scratch/scw1329/annkathrin/data/ukbiobank/accelerometer/cwa_HC_24902/']\n"
     ]
    }
   ],
   "source": [
    "# create lookup list of subject_eid folder\n",
    "paths = [f'{data_path}/phenotypes','/scratch/scw1329/annkathrin/data/ukbiobank']\n",
    "alltimes = []\n",
    "for path in paths:\n",
    "    alltimes.append(glob.glob(f\"{path}/accelerometer/*allsubject*_summary_from_raw.csv\"))\n",
    "    folders = glob.glob(f\"{path}/accelerometer/*/\", recursive = True)\n",
    "    print(folders)\n",
    "    for folder in folders:\n",
    "        alltimes.append(glob.glob(f\"{folder}/*allsubject*_summary_from_raw.csv\"))\n",
    "alltimes = list(itertools.chain(*alltimes))\n",
    "alltimes = np.unique(alltimes)"
   ]
  },
  {
   "cell_type": "code",
   "execution_count": 89,
   "id": "voluntary-russia",
   "metadata": {},
   "outputs": [],
   "source": [
    "files = []\n",
    "for file in alltimes:\n",
    "    files.append(pd.read_csv(file))\n",
    "#merged = reduce(lambda  left,right: pd.merge(left,right,on=['eid'],\n",
    "#                                            how='outer'), files)\n",
    "merged = pd.concat(files)"
   ]
  },
  {
   "cell_type": "code",
   "execution_count": 90,
   "id": "cooked-candy",
   "metadata": {},
   "outputs": [
    {
     "name": "stdout",
     "output_type": "stream",
     "text": [
      "(65902, 80)\n",
      "(65902, 80)\n"
     ]
    }
   ],
   "source": [
    "print(merged.shape)\n",
    "merged = merged.dropna(subset=['covered_days'],how='all',axis='rows')\n",
    "print(merged.shape)\n",
    "unique = merged.drop_duplicates(subset=['eid'],keep='first')"
   ]
  },
  {
   "cell_type": "code",
   "execution_count": 91,
   "id": "fundamental-sunday",
   "metadata": {},
   "outputs": [],
   "source": [
    "# merge with known accelerometer info and expand to dataset\n",
    "acc = pd.read_csv('/scratch/c.c21013066/data/ukbiobank/phenotypes/demo_acc.csv',index_col=0)\n",
    "acc = acc[acc.columns[34:72]]"
   ]
  },
  {
   "cell_type": "code",
   "execution_count": 92,
   "id": "funny-iceland",
   "metadata": {},
   "outputs": [],
   "source": [
    "merged_acc = pd.merge(acc.reset_index(),unique,on=['eid'],how='inner')"
   ]
  },
  {
   "cell_type": "code",
   "execution_count": 93,
   "id": "small-diamond",
   "metadata": {},
   "outputs": [
    {
     "data": {
      "text/html": [
       "<div>\n",
       "<style scoped>\n",
       "    .dataframe tbody tr th:only-of-type {\n",
       "        vertical-align: middle;\n",
       "    }\n",
       "\n",
       "    .dataframe tbody tr th {\n",
       "        vertical-align: top;\n",
       "    }\n",
       "\n",
       "    .dataframe thead th {\n",
       "        text-align: right;\n",
       "    }\n",
       "</style>\n",
       "<table border=\"1\" class=\"dataframe\">\n",
       "  <thead>\n",
       "    <tr style=\"text-align: right;\">\n",
       "      <th></th>\n",
       "      <th>complete_days_starting_10h</th>\n",
       "      <th>complete_days_starting_0h</th>\n",
       "      <th>complete_days_starting_7h</th>\n",
       "    </tr>\n",
       "  </thead>\n",
       "  <tbody>\n",
       "    <tr>\n",
       "      <th>count</th>\n",
       "      <td>65901.000000</td>\n",
       "      <td>65901.000000</td>\n",
       "      <td>50.0</td>\n",
       "    </tr>\n",
       "    <tr>\n",
       "      <th>mean</th>\n",
       "      <td>6.947269</td>\n",
       "      <td>5.958544</td>\n",
       "      <td>6.0</td>\n",
       "    </tr>\n",
       "    <tr>\n",
       "      <th>std</th>\n",
       "      <td>0.365711</td>\n",
       "      <td>0.315477</td>\n",
       "      <td>0.0</td>\n",
       "    </tr>\n",
       "    <tr>\n",
       "      <th>min</th>\n",
       "      <td>2.000000</td>\n",
       "      <td>2.000000</td>\n",
       "      <td>6.0</td>\n",
       "    </tr>\n",
       "    <tr>\n",
       "      <th>25%</th>\n",
       "      <td>7.000000</td>\n",
       "      <td>6.000000</td>\n",
       "      <td>6.0</td>\n",
       "    </tr>\n",
       "    <tr>\n",
       "      <th>50%</th>\n",
       "      <td>7.000000</td>\n",
       "      <td>6.000000</td>\n",
       "      <td>6.0</td>\n",
       "    </tr>\n",
       "    <tr>\n",
       "      <th>75%</th>\n",
       "      <td>7.000000</td>\n",
       "      <td>6.000000</td>\n",
       "      <td>6.0</td>\n",
       "    </tr>\n",
       "    <tr>\n",
       "      <th>max</th>\n",
       "      <td>7.000000</td>\n",
       "      <td>6.000000</td>\n",
       "      <td>6.0</td>\n",
       "    </tr>\n",
       "  </tbody>\n",
       "</table>\n",
       "</div>"
      ],
      "text/plain": [
       "       complete_days_starting_10h  complete_days_starting_0h  \\\n",
       "count                65901.000000               65901.000000   \n",
       "mean                     6.947269                   5.958544   \n",
       "std                      0.365711                   0.315477   \n",
       "min                      2.000000                   2.000000   \n",
       "25%                      7.000000                   6.000000   \n",
       "50%                      7.000000                   6.000000   \n",
       "75%                      7.000000                   6.000000   \n",
       "max                      7.000000                   6.000000   \n",
       "\n",
       "       complete_days_starting_7h  \n",
       "count                       50.0  \n",
       "mean                         6.0  \n",
       "std                          0.0  \n",
       "min                          6.0  \n",
       "25%                          6.0  \n",
       "50%                          6.0  \n",
       "75%                          6.0  \n",
       "max                          6.0  "
      ]
     },
     "execution_count": 93,
     "metadata": {},
     "output_type": "execute_result"
    }
   ],
   "source": [
    "merged_acc.filter(regex='complete').describe()"
   ]
  },
  {
   "cell_type": "code",
   "execution_count": 94,
   "id": "third-priest",
   "metadata": {},
   "outputs": [],
   "source": [
    "merged_acc.to_csv('/scratch/c.c21013066/data/ukbiobank/phenotypes/accelerometer/alluniquesubjects_summary_fromraw_fulldays.csv')"
   ]
  },
  {
   "cell_type": "markdown",
   "id": "warming-couple",
   "metadata": {},
   "source": [
    "## Get matched data file"
   ]
  },
  {
   "cell_type": "code",
   "execution_count": 46,
   "id": "departmental-november",
   "metadata": {},
   "outputs": [],
   "source": [
    "dfs = pd.read_csv(f'{data_path}/phenotypes/accelerometer/unmatched_all_HCnoOsteo_genebloodrisk.csv',index_col=0)"
   ]
  },
  {
   "cell_type": "code",
   "execution_count": 47,
   "id": "statewide-assets",
   "metadata": {},
   "outputs": [],
   "source": [
    "PDids2 = dfs[dfs['diagnosis']=='ParkinsonDisease'].index"
   ]
  },
  {
   "cell_type": "code",
   "execution_count": 43,
   "id": "allied-institute",
   "metadata": {},
   "outputs": [],
   "source": [
    "blood = pd.read_csv(f'{sample_path}/ParkinsonDisease_controlNononHC_blood.csv',index_col=0)"
   ]
  },
  {
   "cell_type": "code",
   "execution_count": 48,
   "id": "packed-beach",
   "metadata": {},
   "outputs": [
    {
     "ename": "KeyError",
     "evalue": "\"Passing list-likes to .loc or [] with any missing labels is no longer supported. The following labels were missing: Int64Index([1008826, 1038369, 1047057, 1051759, 1092128,\\n            ...\\n            5909394, 5947793, 5952015, 5972045, 5996143],\\n           dtype='int64', name='eid', length=152). See https://pandas.pydata.org/pandas-docs/stable/user_guide/indexing.html#deprecate-loc-reindex-listlike\"",
     "output_type": "error",
     "traceback": [
      "\u001b[0;31m---------------------------------------------------------------------------\u001b[0m",
      "\u001b[0;31mKeyError\u001b[0m                                  Traceback (most recent call last)",
      "\u001b[0;32m<ipython-input-48-b769e80db0f6>\u001b[0m in \u001b[0;36m<module>\u001b[0;34m\u001b[0m\n\u001b[0;32m----> 1\u001b[0;31m \u001b[0mblood\u001b[0m\u001b[0;34m.\u001b[0m\u001b[0mloc\u001b[0m\u001b[0;34m[\u001b[0m\u001b[0mPDids2\u001b[0m\u001b[0;34m]\u001b[0m\u001b[0;34m\u001b[0m\u001b[0;34m\u001b[0m\u001b[0m\n\u001b[0m",
      "\u001b[0;32m/scratch/c.c21013066/docker/envs/py38R/lib/python3.8/site-packages/pandas/core/indexing.py\u001b[0m in \u001b[0;36m__getitem__\u001b[0;34m(self, key)\u001b[0m\n\u001b[1;32m    877\u001b[0m \u001b[0;34m\u001b[0m\u001b[0m\n\u001b[1;32m    878\u001b[0m             \u001b[0mmaybe_callable\u001b[0m \u001b[0;34m=\u001b[0m \u001b[0mcom\u001b[0m\u001b[0;34m.\u001b[0m\u001b[0mapply_if_callable\u001b[0m\u001b[0;34m(\u001b[0m\u001b[0mkey\u001b[0m\u001b[0;34m,\u001b[0m \u001b[0mself\u001b[0m\u001b[0;34m.\u001b[0m\u001b[0mobj\u001b[0m\u001b[0;34m)\u001b[0m\u001b[0;34m\u001b[0m\u001b[0;34m\u001b[0m\u001b[0m\n\u001b[0;32m--> 879\u001b[0;31m             \u001b[0;32mreturn\u001b[0m \u001b[0mself\u001b[0m\u001b[0;34m.\u001b[0m\u001b[0m_getitem_axis\u001b[0m\u001b[0;34m(\u001b[0m\u001b[0mmaybe_callable\u001b[0m\u001b[0;34m,\u001b[0m \u001b[0maxis\u001b[0m\u001b[0;34m=\u001b[0m\u001b[0maxis\u001b[0m\u001b[0;34m)\u001b[0m\u001b[0;34m\u001b[0m\u001b[0;34m\u001b[0m\u001b[0m\n\u001b[0m\u001b[1;32m    880\u001b[0m \u001b[0;34m\u001b[0m\u001b[0m\n\u001b[1;32m    881\u001b[0m     \u001b[0;32mdef\u001b[0m \u001b[0m_is_scalar_access\u001b[0m\u001b[0;34m(\u001b[0m\u001b[0mself\u001b[0m\u001b[0;34m,\u001b[0m \u001b[0mkey\u001b[0m\u001b[0;34m:\u001b[0m \u001b[0mTuple\u001b[0m\u001b[0;34m)\u001b[0m\u001b[0;34m:\u001b[0m\u001b[0;34m\u001b[0m\u001b[0;34m\u001b[0m\u001b[0m\n",
      "\u001b[0;32m/scratch/c.c21013066/docker/envs/py38R/lib/python3.8/site-packages/pandas/core/indexing.py\u001b[0m in \u001b[0;36m_getitem_axis\u001b[0;34m(self, key, axis)\u001b[0m\n\u001b[1;32m   1097\u001b[0m                     \u001b[0;32mraise\u001b[0m \u001b[0mValueError\u001b[0m\u001b[0;34m(\u001b[0m\u001b[0;34m\"Cannot index with multidimensional key\"\u001b[0m\u001b[0;34m)\u001b[0m\u001b[0;34m\u001b[0m\u001b[0;34m\u001b[0m\u001b[0m\n\u001b[1;32m   1098\u001b[0m \u001b[0;34m\u001b[0m\u001b[0m\n\u001b[0;32m-> 1099\u001b[0;31m                 \u001b[0;32mreturn\u001b[0m \u001b[0mself\u001b[0m\u001b[0;34m.\u001b[0m\u001b[0m_getitem_iterable\u001b[0m\u001b[0;34m(\u001b[0m\u001b[0mkey\u001b[0m\u001b[0;34m,\u001b[0m \u001b[0maxis\u001b[0m\u001b[0;34m=\u001b[0m\u001b[0maxis\u001b[0m\u001b[0;34m)\u001b[0m\u001b[0;34m\u001b[0m\u001b[0;34m\u001b[0m\u001b[0m\n\u001b[0m\u001b[1;32m   1100\u001b[0m \u001b[0;34m\u001b[0m\u001b[0m\n\u001b[1;32m   1101\u001b[0m             \u001b[0;31m# nested tuple slicing\u001b[0m\u001b[0;34m\u001b[0m\u001b[0;34m\u001b[0m\u001b[0;34m\u001b[0m\u001b[0m\n",
      "\u001b[0;32m/scratch/c.c21013066/docker/envs/py38R/lib/python3.8/site-packages/pandas/core/indexing.py\u001b[0m in \u001b[0;36m_getitem_iterable\u001b[0;34m(self, key, axis)\u001b[0m\n\u001b[1;32m   1035\u001b[0m \u001b[0;34m\u001b[0m\u001b[0m\n\u001b[1;32m   1036\u001b[0m         \u001b[0;31m# A collection of keys\u001b[0m\u001b[0;34m\u001b[0m\u001b[0;34m\u001b[0m\u001b[0;34m\u001b[0m\u001b[0m\n\u001b[0;32m-> 1037\u001b[0;31m         \u001b[0mkeyarr\u001b[0m\u001b[0;34m,\u001b[0m \u001b[0mindexer\u001b[0m \u001b[0;34m=\u001b[0m \u001b[0mself\u001b[0m\u001b[0;34m.\u001b[0m\u001b[0m_get_listlike_indexer\u001b[0m\u001b[0;34m(\u001b[0m\u001b[0mkey\u001b[0m\u001b[0;34m,\u001b[0m \u001b[0maxis\u001b[0m\u001b[0;34m,\u001b[0m \u001b[0mraise_missing\u001b[0m\u001b[0;34m=\u001b[0m\u001b[0;32mFalse\u001b[0m\u001b[0;34m)\u001b[0m\u001b[0;34m\u001b[0m\u001b[0;34m\u001b[0m\u001b[0m\n\u001b[0m\u001b[1;32m   1038\u001b[0m         return self.obj._reindex_with_indexers(\n\u001b[1;32m   1039\u001b[0m             \u001b[0;34m{\u001b[0m\u001b[0maxis\u001b[0m\u001b[0;34m:\u001b[0m \u001b[0;34m[\u001b[0m\u001b[0mkeyarr\u001b[0m\u001b[0;34m,\u001b[0m \u001b[0mindexer\u001b[0m\u001b[0;34m]\u001b[0m\u001b[0;34m}\u001b[0m\u001b[0;34m,\u001b[0m \u001b[0mcopy\u001b[0m\u001b[0;34m=\u001b[0m\u001b[0;32mTrue\u001b[0m\u001b[0;34m,\u001b[0m \u001b[0mallow_dups\u001b[0m\u001b[0;34m=\u001b[0m\u001b[0;32mTrue\u001b[0m\u001b[0;34m\u001b[0m\u001b[0;34m\u001b[0m\u001b[0m\n",
      "\u001b[0;32m/scratch/c.c21013066/docker/envs/py38R/lib/python3.8/site-packages/pandas/core/indexing.py\u001b[0m in \u001b[0;36m_get_listlike_indexer\u001b[0;34m(self, key, axis, raise_missing)\u001b[0m\n\u001b[1;32m   1252\u001b[0m             \u001b[0mkeyarr\u001b[0m\u001b[0;34m,\u001b[0m \u001b[0mindexer\u001b[0m\u001b[0;34m,\u001b[0m \u001b[0mnew_indexer\u001b[0m \u001b[0;34m=\u001b[0m \u001b[0max\u001b[0m\u001b[0;34m.\u001b[0m\u001b[0m_reindex_non_unique\u001b[0m\u001b[0;34m(\u001b[0m\u001b[0mkeyarr\u001b[0m\u001b[0;34m)\u001b[0m\u001b[0;34m\u001b[0m\u001b[0;34m\u001b[0m\u001b[0m\n\u001b[1;32m   1253\u001b[0m \u001b[0;34m\u001b[0m\u001b[0m\n\u001b[0;32m-> 1254\u001b[0;31m         \u001b[0mself\u001b[0m\u001b[0;34m.\u001b[0m\u001b[0m_validate_read_indexer\u001b[0m\u001b[0;34m(\u001b[0m\u001b[0mkeyarr\u001b[0m\u001b[0;34m,\u001b[0m \u001b[0mindexer\u001b[0m\u001b[0;34m,\u001b[0m \u001b[0maxis\u001b[0m\u001b[0;34m,\u001b[0m \u001b[0mraise_missing\u001b[0m\u001b[0;34m=\u001b[0m\u001b[0mraise_missing\u001b[0m\u001b[0;34m)\u001b[0m\u001b[0;34m\u001b[0m\u001b[0;34m\u001b[0m\u001b[0m\n\u001b[0m\u001b[1;32m   1255\u001b[0m         \u001b[0;32mreturn\u001b[0m \u001b[0mkeyarr\u001b[0m\u001b[0;34m,\u001b[0m \u001b[0mindexer\u001b[0m\u001b[0;34m\u001b[0m\u001b[0;34m\u001b[0m\u001b[0m\n\u001b[1;32m   1256\u001b[0m \u001b[0;34m\u001b[0m\u001b[0m\n",
      "\u001b[0;32m/scratch/c.c21013066/docker/envs/py38R/lib/python3.8/site-packages/pandas/core/indexing.py\u001b[0m in \u001b[0;36m_validate_read_indexer\u001b[0;34m(self, key, indexer, axis, raise_missing)\u001b[0m\n\u001b[1;32m   1313\u001b[0m \u001b[0;34m\u001b[0m\u001b[0m\n\u001b[1;32m   1314\u001b[0m                 \u001b[0;32mwith\u001b[0m \u001b[0moption_context\u001b[0m\u001b[0;34m(\u001b[0m\u001b[0;34m\"display.max_seq_items\"\u001b[0m\u001b[0;34m,\u001b[0m \u001b[0;36m10\u001b[0m\u001b[0;34m,\u001b[0m \u001b[0;34m\"display.width\"\u001b[0m\u001b[0;34m,\u001b[0m \u001b[0;36m80\u001b[0m\u001b[0;34m)\u001b[0m\u001b[0;34m:\u001b[0m\u001b[0;34m\u001b[0m\u001b[0;34m\u001b[0m\u001b[0m\n\u001b[0;32m-> 1315\u001b[0;31m                     raise KeyError(\n\u001b[0m\u001b[1;32m   1316\u001b[0m                         \u001b[0;34m\"Passing list-likes to .loc or [] with any missing labels \"\u001b[0m\u001b[0;34m\u001b[0m\u001b[0;34m\u001b[0m\u001b[0m\n\u001b[1;32m   1317\u001b[0m                         \u001b[0;34m\"is no longer supported. \"\u001b[0m\u001b[0;34m\u001b[0m\u001b[0;34m\u001b[0m\u001b[0m\n",
      "\u001b[0;31mKeyError\u001b[0m: \"Passing list-likes to .loc or [] with any missing labels is no longer supported. The following labels were missing: Int64Index([1008826, 1038369, 1047057, 1051759, 1092128,\\n            ...\\n            5909394, 5947793, 5952015, 5972045, 5996143],\\n           dtype='int64', name='eid', length=152). See https://pandas.pydata.org/pandas-docs/stable/user_guide/indexing.html#deprecate-loc-reindex-listlike\""
     ]
    }
   ],
   "source": [
    "blood.loc[PDids2]"
   ]
  },
  {
   "cell_type": "code",
   "execution_count": 21,
   "id": "similar-tract",
   "metadata": {},
   "outputs": [],
   "source": [
    "acc = pd.read_csv(f'{data_path}/phenotypes/accelerometer/alluniquesubjects_summary_fromraw_fulldays.csv',\n",
    "                 index_col=0).set_index('eid')"
   ]
  },
  {
   "cell_type": "code",
   "execution_count": 40,
   "id": "assumed-exposure",
   "metadata": {},
   "outputs": [],
   "source": [
    "risks = []\n",
    "for disease in ['AllCauseDementia','AllCauseParkinsonism','AlzheimerDisease','ParkinsonDisease','Dystonia','Osteoarthritis','Depression']:\n",
    "    risk = pd.read_csv(f'{sample_path}/{disease}_controlNononHC_risk.csv',index_col=0)\n",
    "    blood = pd.read_csv(f'{sample_path}/{disease}_controlNononHC_blood.csv',index_col=0)\n",
    "    riskblood = pd.merge(risk,blood,right_index=True,left_index=True,how='outer',suffixes=['_drop',''])\n",
    "    riskblood = riskblood.drop(columns=riskblood.filter(regex='_drop').columns)\n",
    "    risks.append(riskblood)\n",
    "riskblood = pd.concat(risks)\n",
    "riskblood = riskblood[~riskblood.index.duplicated(keep='first')]"
   ]
  },
  {
   "cell_type": "code",
   "execution_count": 16,
   "id": "conventional-biology",
   "metadata": {},
   "outputs": [],
   "source": [
    "merged = pd.merge(acc,dfs,right_index=True,left_index=True,how='right',suffixes=['_drop',''])\n",
    "merged = merged.drop(columns=merged.filter(regex='_drop').columns)"
   ]
  },
  {
   "cell_type": "code",
   "execution_count": 102,
   "id": "irish-reliance",
   "metadata": {},
   "outputs": [
    {
     "data": {
      "text/html": [
       "<div>\n",
       "<style scoped>\n",
       "    .dataframe tbody tr th:only-of-type {\n",
       "        vertical-align: middle;\n",
       "    }\n",
       "\n",
       "    .dataframe tbody tr th {\n",
       "        vertical-align: top;\n",
       "    }\n",
       "\n",
       "    .dataframe thead tr th {\n",
       "        text-align: left;\n",
       "    }\n",
       "\n",
       "    .dataframe thead tr:last-of-type th {\n",
       "        text-align: right;\n",
       "    }\n",
       "</style>\n",
       "<table border=\"1\" class=\"dataframe\">\n",
       "  <thead>\n",
       "    <tr>\n",
       "      <th></th>\n",
       "      <th colspan=\"5\" halign=\"left\">covered_days</th>\n",
       "      <th colspan=\"5\" halign=\"left\">complete_days_starting_10h</th>\n",
       "      <th colspan=\"5\" halign=\"left\">complete_days_starting_0h</th>\n",
       "    </tr>\n",
       "    <tr>\n",
       "      <th></th>\n",
       "      <th>count</th>\n",
       "      <th>mean</th>\n",
       "      <th>std</th>\n",
       "      <th>min</th>\n",
       "      <th>max</th>\n",
       "      <th>count</th>\n",
       "      <th>mean</th>\n",
       "      <th>std</th>\n",
       "      <th>min</th>\n",
       "      <th>max</th>\n",
       "      <th>count</th>\n",
       "      <th>mean</th>\n",
       "      <th>std</th>\n",
       "      <th>min</th>\n",
       "      <th>max</th>\n",
       "    </tr>\n",
       "    <tr>\n",
       "      <th>diagnosis</th>\n",
       "      <th></th>\n",
       "      <th></th>\n",
       "      <th></th>\n",
       "      <th></th>\n",
       "      <th></th>\n",
       "      <th></th>\n",
       "      <th></th>\n",
       "      <th></th>\n",
       "      <th></th>\n",
       "      <th></th>\n",
       "      <th></th>\n",
       "      <th></th>\n",
       "      <th></th>\n",
       "      <th></th>\n",
       "      <th></th>\n",
       "    </tr>\n",
       "  </thead>\n",
       "  <tbody>\n",
       "    <tr>\n",
       "      <th>AllCauseDementia</th>\n",
       "      <td>1369</td>\n",
       "      <td>6.973786</td>\n",
       "      <td>0.233289</td>\n",
       "      <td>3.127083</td>\n",
       "      <td>7.000694</td>\n",
       "      <td>1369</td>\n",
       "      <td>6.965668</td>\n",
       "      <td>0.285347</td>\n",
       "      <td>3</td>\n",
       "      <td>7</td>\n",
       "      <td>1369</td>\n",
       "      <td>5.972973</td>\n",
       "      <td>0.247797</td>\n",
       "      <td>2</td>\n",
       "      <td>6</td>\n",
       "    </tr>\n",
       "    <tr>\n",
       "      <th>AllCauseParkinsonism</th>\n",
       "      <td>519</td>\n",
       "      <td>6.964806</td>\n",
       "      <td>0.298386</td>\n",
       "      <td>3.215625</td>\n",
       "      <td>7.001042</td>\n",
       "      <td>519</td>\n",
       "      <td>6.953757</td>\n",
       "      <td>0.359349</td>\n",
       "      <td>3</td>\n",
       "      <td>7</td>\n",
       "      <td>519</td>\n",
       "      <td>5.965318</td>\n",
       "      <td>0.302422</td>\n",
       "      <td>2</td>\n",
       "      <td>6</td>\n",
       "    </tr>\n",
       "    <tr>\n",
       "      <th>AlzheimerDisease</th>\n",
       "      <td>212</td>\n",
       "      <td>6.983664</td>\n",
       "      <td>0.127796</td>\n",
       "      <td>5.494792</td>\n",
       "      <td>7.000347</td>\n",
       "      <td>212</td>\n",
       "      <td>6.976415</td>\n",
       "      <td>0.180600</td>\n",
       "      <td>5</td>\n",
       "      <td>7</td>\n",
       "      <td>212</td>\n",
       "      <td>5.981132</td>\n",
       "      <td>0.167566</td>\n",
       "      <td>4</td>\n",
       "      <td>6</td>\n",
       "    </tr>\n",
       "    <tr>\n",
       "      <th>Depression</th>\n",
       "      <td>9586</td>\n",
       "      <td>6.963362</td>\n",
       "      <td>0.276753</td>\n",
       "      <td>3.084028</td>\n",
       "      <td>7.001736</td>\n",
       "      <td>9586</td>\n",
       "      <td>6.950031</td>\n",
       "      <td>0.344427</td>\n",
       "      <td>3</td>\n",
       "      <td>7</td>\n",
       "      <td>9586</td>\n",
       "      <td>5.962863</td>\n",
       "      <td>0.288319</td>\n",
       "      <td>2</td>\n",
       "      <td>6</td>\n",
       "    </tr>\n",
       "    <tr>\n",
       "      <th>Dystonia</th>\n",
       "      <td>81</td>\n",
       "      <td>6.970383</td>\n",
       "      <td>0.260301</td>\n",
       "      <td>4.656597</td>\n",
       "      <td>6.999306</td>\n",
       "      <td>81</td>\n",
       "      <td>6.962963</td>\n",
       "      <td>0.333333</td>\n",
       "      <td>4</td>\n",
       "      <td>7</td>\n",
       "      <td>81</td>\n",
       "      <td>5.975309</td>\n",
       "      <td>0.222222</td>\n",
       "      <td>4</td>\n",
       "      <td>6</td>\n",
       "    </tr>\n",
       "    <tr>\n",
       "      <th>Healthy</th>\n",
       "      <td>43753</td>\n",
       "      <td>6.960136</td>\n",
       "      <td>0.300381</td>\n",
       "      <td>2.941319</td>\n",
       "      <td>7.001736</td>\n",
       "      <td>43753</td>\n",
       "      <td>6.947958</td>\n",
       "      <td>0.365552</td>\n",
       "      <td>2</td>\n",
       "      <td>7</td>\n",
       "      <td>43753</td>\n",
       "      <td>5.958974</td>\n",
       "      <td>0.315944</td>\n",
       "      <td>2</td>\n",
       "      <td>6</td>\n",
       "    </tr>\n",
       "    <tr>\n",
       "      <th>Osteoarthritis</th>\n",
       "      <td>13407</td>\n",
       "      <td>6.957053</td>\n",
       "      <td>0.307795</td>\n",
       "      <td>2.994792</td>\n",
       "      <td>7.002083</td>\n",
       "      <td>13407</td>\n",
       "      <td>6.944283</td>\n",
       "      <td>0.374419</td>\n",
       "      <td>2</td>\n",
       "      <td>7</td>\n",
       "      <td>13407</td>\n",
       "      <td>5.955396</td>\n",
       "      <td>0.326296</td>\n",
       "      <td>2</td>\n",
       "      <td>6</td>\n",
       "    </tr>\n",
       "    <tr>\n",
       "      <th>ParkinsonDisease</th>\n",
       "      <td>469</td>\n",
       "      <td>6.961128</td>\n",
       "      <td>0.313697</td>\n",
       "      <td>3.215625</td>\n",
       "      <td>7.001042</td>\n",
       "      <td>469</td>\n",
       "      <td>6.948827</td>\n",
       "      <td>0.377723</td>\n",
       "      <td>3</td>\n",
       "      <td>7</td>\n",
       "      <td>469</td>\n",
       "      <td>5.961620</td>\n",
       "      <td>0.317943</td>\n",
       "      <td>2</td>\n",
       "      <td>6</td>\n",
       "    </tr>\n",
       "  </tbody>\n",
       "</table>\n",
       "</div>"
      ],
      "text/plain": [
       "                     covered_days                                          \\\n",
       "                            count      mean       std       min       max   \n",
       "diagnosis                                                                   \n",
       "AllCauseDementia             1369  6.973786  0.233289  3.127083  7.000694   \n",
       "AllCauseParkinsonism          519  6.964806  0.298386  3.215625  7.001042   \n",
       "AlzheimerDisease              212  6.983664  0.127796  5.494792  7.000347   \n",
       "Depression                   9586  6.963362  0.276753  3.084028  7.001736   \n",
       "Dystonia                       81  6.970383  0.260301  4.656597  6.999306   \n",
       "Healthy                     43753  6.960136  0.300381  2.941319  7.001736   \n",
       "Osteoarthritis              13407  6.957053  0.307795  2.994792  7.002083   \n",
       "ParkinsonDisease              469  6.961128  0.313697  3.215625  7.001042   \n",
       "\n",
       "                     complete_days_starting_10h                              \\\n",
       "                                          count      mean       std min max   \n",
       "diagnosis                                                                     \n",
       "AllCauseDementia                           1369  6.965668  0.285347   3   7   \n",
       "AllCauseParkinsonism                        519  6.953757  0.359349   3   7   \n",
       "AlzheimerDisease                            212  6.976415  0.180600   5   7   \n",
       "Depression                                 9586  6.950031  0.344427   3   7   \n",
       "Dystonia                                     81  6.962963  0.333333   4   7   \n",
       "Healthy                                   43753  6.947958  0.365552   2   7   \n",
       "Osteoarthritis                            13407  6.944283  0.374419   2   7   \n",
       "ParkinsonDisease                            469  6.948827  0.377723   3   7   \n",
       "\n",
       "                     complete_days_starting_0h                              \n",
       "                                         count      mean       std min max  \n",
       "diagnosis                                                                   \n",
       "AllCauseDementia                          1369  5.972973  0.247797   2   6  \n",
       "AllCauseParkinsonism                       519  5.965318  0.302422   2   6  \n",
       "AlzheimerDisease                           212  5.981132  0.167566   4   6  \n",
       "Depression                                9586  5.962863  0.288319   2   6  \n",
       "Dystonia                                    81  5.975309  0.222222   4   6  \n",
       "Healthy                                  43753  5.958974  0.315944   2   6  \n",
       "Osteoarthritis                           13407  5.955396  0.326296   2   6  \n",
       "ParkinsonDisease                           469  5.961620  0.317943   2   6  "
      ]
     },
     "execution_count": 102,
     "metadata": {},
     "output_type": "execute_result"
    }
   ],
   "source": [
    "m.groupby('diagnosis')[['covered_days','complete_days_starting_10h','complete_days_starting_0h']].agg(['count','mean','std','min','max'])"
   ]
  },
  {
   "cell_type": "code",
   "execution_count": 17,
   "id": "viral-exploration",
   "metadata": {},
   "outputs": [],
   "source": [
    "m = pd.merge(merged,riskblood[riskblood.columns[:-18]],right_index=True,left_index=True,how='left',suffixes=['_drop',''])\n",
    "m = m.drop(columns=m.filter(regex='_drop').columns)\n",
    "m.to_csv(f'{data_path}/phenotypes/accelerometer/unmatched_all_HCnoOsteo_riskblood.csv')"
   ]
  },
  {
   "cell_type": "code",
   "execution_count": 13,
   "id": "hungry-spread",
   "metadata": {},
   "outputs": [
    {
     "data": {
      "text/plain": [
       "(469, 236)"
      ]
     },
     "execution_count": 13,
     "metadata": {},
     "output_type": "execute_result"
    }
   ],
   "source": [
    "subset = m[m['diagnosis']=='ParkinsonDisease']\n",
    "hc = subset[subset['Status']=='Healthy']\n",
    "hc.shape"
   ]
  },
  {
   "cell_type": "code",
   "execution_count": 14,
   "id": "blond-shower",
   "metadata": {},
   "outputs": [
    {
     "data": {
      "text/plain": [
       "Unnamed: 0                      0\n",
       "covered_days                    0\n",
       "complete_days_starting_10h      0\n",
       "complete_days_starting_0h       0\n",
       "complete_days_starting_7h     469\n",
       "                             ... \n",
       "Testosterone                    0\n",
       "Totalprotein                    0\n",
       "Triglycerides                   0\n",
       "Urate                           0\n",
       "VitaminD                        0\n",
       "Length: 236, dtype: int64"
      ]
     },
     "execution_count": 14,
     "metadata": {},
     "output_type": "execute_result"
    }
   ],
   "source": [
    "hc.isna().sum()"
   ]
  },
  {
   "cell_type": "code",
   "execution_count": 120,
   "id": "statistical-internship",
   "metadata": {},
   "outputs": [],
   "source": [
    "merged.to_csv(f'{data_path}/phenotypes/accelerometer/matched_all_HCnoOsteo.csv')"
   ]
  },
  {
   "cell_type": "code",
   "execution_count": 47,
   "id": "aware-capacity",
   "metadata": {},
   "outputs": [
    {
     "name": "stdout",
     "output_type": "stream",
     "text": [
      "Index(['male', 'TownsendDeprivationIndex', 'AlcoholStatus_Current',\n",
      "       'AlcoholStatus_Previous', 'SmokeStatus_Current', 'SmokeStatus_Previous',\n",
      "       'DaytimeSleepiness_Often', 'AlcoholFrequency_LessThanWeekly',\n",
      "       'family_Stroke', 'family_Diabetes', 'family_Severedepression',\n",
      "       'family_Alzheimersdiseasedementia', 'family_Parkinsonsdisease', 'BMI',\n",
      "       'Waist_Circumference', 'Hip_Circumference', 'Diastolic_BloodPressure',\n",
      "       'PulseRate', 'BodyFat_Percentage', 'Albumin', 'Alkalinephosphatase',\n",
      "       'Alanineaminotransferase', 'ApolipoproteinA', 'ApolipoproteinB',\n",
      "       'Aspartateaminotransferase', 'Urea', 'Calcium', 'Cholesterol',\n",
      "       'Creatinine', 'C_reactiveprotein', 'CystatinC',\n",
      "       'Gammaglutamyltransferase', 'Glucose', 'Glycatedhaemoglobin_HbA1c',\n",
      "       'HDLcholesterol', 'IGF_1', 'LDLdirect', 'Phosphate', 'SHBG',\n",
      "       'Totalbilirubin', 'Testosterone', 'Totalprotein', 'Triglycerides',\n",
      "       'Urate', 'VitaminD', 'AllCauseDementia_age', 'time_to_diagnosis',\n",
      "       'accelerometry_age', 'date_accelerometry', 'weartime_QC', 'diagnosis',\n",
      "       'acc_time_since_diagnosis', 'acc_time_to_diagnosis', 'acc_incident',\n",
      "       'diagnosis_prod', 'diagnosis_prod_conservative', 'Status', 'depressed',\n",
      "       'PD', 'AllCauseParkinsonism', 'AllCauseParkinsonism_age',\n",
      "       'AlzheimerDisease', 'AlzheimerDisease_age', 'MultipleSystemAtrophy',\n",
      "       'MultipleSystemAtrophy_age', 'ProgressiveSupranuclearPalsy',\n",
      "       'ProgressiveSupranuclearPalsy_age', 'FrontoTemporalDementia',\n",
      "       'FrontoTemporalDementia_age', 'VascularDementia',\n",
      "       'VascularDementia_age', 'Dystonia', 'Dystonia_age', 'Osteoarthritis',\n",
      "       'Osteoarthritis_age', 'Depression', 'Depression_age',\n",
      "       'ParkinsonDisease', 'ParkinsonDisease_age', 'accelerometry_age_rounded',\n",
      "       'Status_group', 'Group'],\n",
      "      dtype='object')\n",
      "Index(['male', 'TownsendDeprivationIndex', 'AllCauseDementia_age',\n",
      "       'time_to_diagnosis', 'accelerometry_age', 'date_accelerometry',\n",
      "       'weartime_QC', 'diagnosis', 'acc_time_since_diagnosis',\n",
      "       'acc_time_to_diagnosis', 'acc_incident', 'diagnosis_prod',\n",
      "       'diagnosis_prod_conservative', 'Status', 'depressed', 'PD',\n",
      "       'AllCauseParkinsonism', 'AllCauseParkinsonism_age', 'AlzheimerDisease',\n",
      "       'AlzheimerDisease_age', 'MultipleSystemAtrophy',\n",
      "       'MultipleSystemAtrophy_age', 'ProgressiveSupranuclearPalsy',\n",
      "       'ProgressiveSupranuclearPalsy_age', 'FrontoTemporalDementia',\n",
      "       'FrontoTemporalDementia_age', 'VascularDementia',\n",
      "       'VascularDementia_age', 'Dystonia', 'Dystonia_age', 'Osteoarthritis',\n",
      "       'Osteoarthritis_age', 'Depression', 'Depression_age',\n",
      "       'ParkinsonDisease', 'ParkinsonDisease_age', 'accelerometry_age_rounded',\n",
      "       'Status_group', 'Group'],\n",
      "      dtype='object')\n"
     ]
    }
   ],
   "source": [
    "dfs = pd.read_csv(f'{data_path}/phenotypes/accelerometer/unmatched_all_HCnoOsteo_NoDepressedNoPD.csv',index_col=0)\n",
    "print(dfs.columns[100:200])\n",
    "dfs = pd.read_csv(f'{data_path}/phenotypes/accelerometer/matched_all_HCnoOsteo_NoDepressedNoPD.csv',index_col=0)\n",
    "print(dfs.columns[100:200])"
   ]
  },
  {
   "cell_type": "code",
   "execution_count": 104,
   "id": "transparent-spokesman",
   "metadata": {},
   "outputs": [],
   "source": [
    "# HC population\n",
    "acc = pd.read_csv(f'{data_path}/phenotypes/accelerometer/alluniquesubjects_summary_fromraw_fulldays.csv').set_index('eid')\n",
    "hc = pd.read_csv(f'{data_path}/phenotypes/accelerometer/allHCnoOsteo.csv',index_col=0)\n",
    "hc = pd.merge(hc,acc,right_index=True,left_index=True,how='left',suffixes=['','_drop'])\n",
    "hc = hc.drop(columns=hc.filter(regex='_drop').columns)\n",
    "hc.to_csv(f'{data_path}/phenotypes/accelerometer/allHCnoOsteo.csv')"
   ]
  },
  {
   "cell_type": "markdown",
   "id": "accurate-brother",
   "metadata": {},
   "source": [
    "## Check if all included"
   ]
  },
  {
   "cell_type": "code",
   "execution_count": 70,
   "id": "powered-preliminary",
   "metadata": {},
   "outputs": [
    {
     "data": {
      "text/html": [
       "<div>\n",
       "<style scoped>\n",
       "    .dataframe tbody tr th:only-of-type {\n",
       "        vertical-align: middle;\n",
       "    }\n",
       "\n",
       "    .dataframe tbody tr th {\n",
       "        vertical-align: top;\n",
       "    }\n",
       "\n",
       "    .dataframe thead th {\n",
       "        text-align: right;\n",
       "    }\n",
       "</style>\n",
       "<table border=\"1\" class=\"dataframe\">\n",
       "  <thead>\n",
       "    <tr style=\"text-align: right;\">\n",
       "      <th></th>\n",
       "      <th>Unnamed: 0</th>\n",
       "      <th>path</th>\n",
       "      <th>folder</th>\n",
       "      <th>file</th>\n",
       "    </tr>\n",
       "    <tr>\n",
       "      <th>eid</th>\n",
       "      <th></th>\n",
       "      <th></th>\n",
       "      <th></th>\n",
       "      <th></th>\n",
       "    </tr>\n",
       "  </thead>\n",
       "  <tbody>\n",
       "    <tr>\n",
       "      <th>2667457</th>\n",
       "      <td>7905</td>\n",
       "      <td>/scratch/c.c21013066/data/ukbiobank/phenotypes...</td>\n",
       "      <td>accelerometer</td>\n",
       "      <td>/scratch/c.c21013066/data/ukbiobank/phenotypes...</td>\n",
       "    </tr>\n",
       "  </tbody>\n",
       "</table>\n",
       "</div>"
      ],
      "text/plain": [
       "         Unnamed: 0                                               path  \\\n",
       "eid                                                                      \n",
       "2667457        7905  /scratch/c.c21013066/data/ukbiobank/phenotypes...   \n",
       "\n",
       "                folder                                               file  \n",
       "eid                                                                        \n",
       "2667457  accelerometer  /scratch/c.c21013066/data/ukbiobank/phenotypes...  "
      ]
     },
     "execution_count": 70,
     "metadata": {},
     "output_type": "execute_result"
    }
   ],
   "source": [
    "# time-series files\n",
    "downloaded = pd.read_csv('/scratch/c.c21013066/data/ukbiobank/phenotypes/accelerometer/subject_file_lookup.csv').set_index('eid')\n",
    "extracted = pd.read_csv('/scratch/c.c21013066/data/ukbiobank/phenotypes/accelerometer/alluniquesubjects_summary_fromraw_fulldays.csv',\n",
    "                 index_col=0).set_index('eid')\n",
    "diff = np.setdiff1d(downloaded.index,extracted.index)\n",
    "downloaded.loc[diff]"
   ]
  },
  {
   "cell_type": "code",
   "execution_count": 44,
   "id": "mature-phone",
   "metadata": {},
   "outputs": [],
   "source": [
    "downloaded.loc[diff].to_csv('/scratch/scw1329/annkathrin/data/ukbiobank/to_process4.csv')"
   ]
  },
  {
   "cell_type": "markdown",
   "id": "strategic-disposition",
   "metadata": {},
   "source": [
    "# Remove processed files"
   ]
  },
  {
   "cell_type": "code",
   "execution_count": 10,
   "id": "dynamic-private",
   "metadata": {},
   "outputs": [
    {
     "name": "stdout",
     "output_type": "stream",
     "text": [
      "['/scratch/c.c21013066/data/ukbiobank/phenotypes/accelerometer/cwa_10001/', '/scratch/c.c21013066/data/ukbiobank/phenotypes/accelerometer/cwa_depr_10001/', '/scratch/c.c21013066/data/ukbiobank/phenotypes/accelerometer/cwa_depr_8001/', '/scratch/c.c21013066/data/ukbiobank/phenotypes/accelerometer/cwa_depr_6002/', '/scratch/c.c21013066/data/ukbiobank/phenotypes/accelerometer/cwa_depr_3/']\n",
      "247 0\n"
     ]
    },
    {
     "data": {
      "text/plain": [
       "(0, 247)"
      ]
     },
     "execution_count": 10,
     "metadata": {},
     "output_type": "execute_result"
    }
   ],
   "source": [
    "# which ones to delete\n",
    "folders = glob.glob(\"/scratch/c.c21013066/data/ukbiobank/phenotypes/accelerometer/*/\", recursive = True)\n",
    "print(folders)\n",
    "alltimes = []\n",
    "allraw = []\n",
    "for folder in ['/scratch/c.c21013066/data/ukbiobank/phenotypes/accelerometer/cwa_depr_6002/']:\n",
    "    alltimes.append(glob.glob(f\"{folder}/*-summary.json\"))\n",
    "    allraw.append(glob.glob(f\"{folder}/*.cwa\"))\n",
    "alltimes = list(itertools.chain(*alltimes))\n",
    "allraw = list(itertools.chain(*allraw))\n",
    "print(len(alltimes),len(allraw))\n",
    "alltimeseid = [int(re.findall(r'\\d+', headline)[2]) for headline in alltimes]\n",
    "allraweid = [int(re.findall(r'\\d+', headline)[2]) for headline in allraw]\n",
    "delete = np.setdiff1d(alltimeseid,allraweid)\n",
    "delete = np.intersect1d(allraweid,alltimeseid)\n",
    "len(delete),len(alltimeseid)"
   ]
  },
  {
   "cell_type": "code",
   "execution_count": 11,
   "id": "stuck-hollywood",
   "metadata": {},
   "outputs": [],
   "source": [
    "for f in delete:\n",
    "    os.remove(os.path.join('/scratch/c.c21013066/data/ukbiobank/phenotypes/accelerometer/cwa_depr_6002/',f'{f}_90001_0_0.cwa'))"
   ]
  }
 ],
 "metadata": {
  "kernelspec": {
   "display_name": "Python 3 (ipykernel)",
   "language": "python",
   "name": "python3"
  },
  "language_info": {
   "codemirror_mode": {
    "name": "ipython",
    "version": 3
   },
   "file_extension": ".py",
   "mimetype": "text/x-python",
   "name": "python",
   "nbconvert_exporter": "python",
   "pygments_lexer": "ipython3",
   "version": "3.9.0"
  }
 },
 "nbformat": 4,
 "nbformat_minor": 5
}
