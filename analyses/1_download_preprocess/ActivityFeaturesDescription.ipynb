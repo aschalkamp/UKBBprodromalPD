{
 "cells": [
  {
   "cell_type": "code",
   "execution_count": 1,
   "id": "emerging-highlight",
   "metadata": {},
   "outputs": [],
   "source": [
    "import pandas as pd\n",
    "import numpy as np"
   ]
  },
  {
   "cell_type": "code",
   "execution_count": 2,
   "id": "located-speed",
   "metadata": {},
   "outputs": [],
   "source": [
    "data_path = '/scratch/c.c21013066/data/ukbiobank'"
   ]
  },
  {
   "cell_type": "code",
   "execution_count": 9,
   "id": "anticipated-engineer",
   "metadata": {},
   "outputs": [],
   "source": [
    "features = pd.read_csv(f'{data_path}/phenotypes/accelerometer/matched_all_HCnoOsteo.csv').columns"
   ]
  },
  {
   "cell_type": "code",
   "execution_count": 4,
   "id": "prompt-decision",
   "metadata": {},
   "outputs": [],
   "source": [
    "classes = ['sleep','light','sedentary','MVPA','imputed']\n",
    "features = np.hstack(['covered_days','complete_days_starting_10h','complete_days_starting_0h','complete_days_starting_7h', [f'mean_{cl}_hours_perday' for cl in classes],\n",
    "                  [f'std_{cl}_hours_perday' for cl in classes],\n",
    "                  [f'mean_{cl}_hours_per24h' for cl in classes],\n",
    "                  [f'std_{cl}_hours_per24h' for cl in classes],\n",
    "                  [f'mean_movement_during_{cl}' for cl in classes],\n",
    "                  [f'std_movement_during_{cl}' for cl in classes],\n",
    "                  [f'mean_max_{cl}_hours_consecutive_perday' for cl in classes],\n",
    "                  [f'mean_max_{cl}_hours_consecutive_per24h' for cl in classes],\n",
    "                  [f'max_{cl}_hours_consecutive' for cl in classes],\n",
    "                  [f'mean_N_{cl}_intervals_per24h' for cl in classes],\n",
    "                  [f'mean_N_{cl}_intervals_perday' for cl in classes],\n",
    "                  [f'mean_N_{cl}_intervals_22-10' for cl in classes],\n",
    "                  [f'mean_N_{cl}_intervals_10-22' for cl in classes],\n",
    "                  [f'mean_N_{cl}_intervals_07-23' for cl in classes],\n",
    "                  [f'mean_N_{cl}_intervals_23-07' for cl in classes]])"
   ]
  },
  {
   "cell_type": "code",
   "execution_count": 5,
   "id": "instrumental-utilization",
   "metadata": {},
   "outputs": [],
   "source": [
    "table = pd.DataFrame(columns=['name','description'],index = features)"
   ]
  },
  {
   "cell_type": "code",
   "execution_count": 6,
   "id": "chicken-deposit",
   "metadata": {},
   "outputs": [],
   "source": [
    "for activity in ['sleep','MVPA','light','sedentary','imputed']:\n",
    "    table[activity] = table.index.str.contains(activity)"
   ]
  },
  {
   "cell_type": "code",
   "execution_count": 3,
   "id": "becoming-question",
   "metadata": {},
   "outputs": [],
   "source": [
    "dicto = {\n",
    "        'mean_([\\w]+)_hours_per24h':'for each 24h cycle (starting 10am) get all epochs of that day and count how many epochs labelled as activity and convert to hours, get mean over days',\n",
    "        'std_([\\w]+)_hours_per24h':'for each 24h cycle (starting 10am)  get all epochs of that day and count how many epochs labelled as activity and convert to hours, get std over days',\n",
    "        'mean_movement_during_([\\w]+)':'get all epochs classified as activity and compute mean of acceleration',\n",
    "        'std_movement_during_([\\w]+)':'get all epochs classified as activity and compute std of acceleration',\n",
    "        'mean_max_([\\w]+)_hours_consecutive_per24h': 'identify uninterrupted sequences of activity, for each 24h cycle (starting 10am) get maximum of uninterrupted sequence length in hours, compute mean over cycles',\n",
    "        'max_([\\w]+)_hours_consecutive': 'get overall longest sequence of uninterrupted activity in hours',\n",
    "        'mean_N_([\\w]+)_intervals_per24h':'identify when a new sequence of activity starts, for each 24h cycle (starting 10am) count how often a new sequence of activity starts, compute mean over cycles',\n",
    "        'mean_N_([\\w]+)_intervals_10-22': 'identify when a new sequence of activity starts, for each 12h cycle (starting 10am till 10pm) count how often a new sequence of activity starts, compute mean over cycles',\n",
    "        'mean_N_([\\w]+)_intervals_22-10': 'identify when a new sequence of activity starts, for each 12h cycle (starting 10pm till 10am) count how often a new sequence of activity starts, compute mean over cycles',\n",
    "        'mean_N_([\\w]+)_intervals_07-23': 'identify when a new sequence of activity starts, for each 8h cycle (here combining two 8h intervals starting 7am till 11pm) count how often a new sequence of activity starts, compute mean over cycles',\n",
    "        'mean_N_([\\w]+)_intervals_23-07': 'identify when a new sequence of activity starts, for each 8h cycle (starting 11pm till 8am) count how often a new sequence of activity starts, compute mean over cycles'\n",
    "        }"
   ]
  },
  {
   "cell_type": "code",
   "execution_count": 7,
   "id": "dirty-pierre",
   "metadata": {},
   "outputs": [
    {
     "name": "stdout",
     "output_type": "stream",
     "text": [
      "mean_([\\w]+)_hours_per24h\n",
      "std_([\\w]+)_hours_per24h\n",
      "mean_movement_during_([\\w]+)\n",
      "std_movement_during_([\\w]+)\n",
      "mean_max_([\\w]+)_hours_consecutive_per24h\n",
      "max_([\\w]+)_hours_consecutive\n",
      "mean_N_([\\w]+)_intervals_per24h\n",
      "mean_N_([\\w]+)_intervals_10-22\n",
      "mean_N_([\\w]+)_intervals_22-10\n",
      "mean_N_([\\w]+)_intervals_07-23\n",
      "mean_N_([\\w]+)_intervals_23-07\n"
     ]
    }
   ],
   "source": [
    "for key in dicto:\n",
    "    print(key)\n",
    "    table.loc[table.index.str.match(key),'description'] = dicto[key]"
   ]
  },
  {
   "cell_type": "code",
   "execution_count": 78,
   "id": "tender-familiar",
   "metadata": {},
   "outputs": [
    {
     "name": "stdout",
     "output_type": "stream",
     "text": [
      "mean_sleep_hours_per24h\n",
      "std_movement_during_sleep\n",
      "mean_max_sleep_hours_consecutive_per24h\n",
      "mean_N_sleep_intervals_22-10\n",
      "mean_N_sleep_intervals_10-22\n"
     ]
    }
   ],
   "source": [
    "name_dict = {'mean_sleep_hours_per24h':'mean sleep [h]','std_movement_during_sleep':'std movement during sleep [milligal]',\n",
    "                        'mean_max_sleep_hours_consecutive_per24h':'mean maximum consecutive sleep [h]',\n",
    "            'mean_N_sleep_intervals_22-10':'mean wake-ups nighttime [N]',\n",
    "                           'mean_N_sleep_intervals_10-22':'mean naps daytime [N]'}\n",
    "for key in name_dict:\n",
    "    print(key)\n",
    "    table.loc[key,'name'] = name_dict[key]"
   ]
  },
  {
   "cell_type": "code",
   "execution_count": 80,
   "id": "entire-intervention",
   "metadata": {},
   "outputs": [],
   "source": [
    "table.to_csv('/scratch/c.c21013066/data/ukbiobank/phenotypes/accelerometer/derived_features_description.csv')"
   ]
  },
  {
   "cell_type": "code",
   "execution_count": 8,
   "id": "expressed-toronto",
   "metadata": {},
   "outputs": [
    {
     "data": {
      "text/html": [
       "<div>\n",
       "<style scoped>\n",
       "    .dataframe tbody tr th:only-of-type {\n",
       "        vertical-align: middle;\n",
       "    }\n",
       "\n",
       "    .dataframe tbody tr th {\n",
       "        vertical-align: top;\n",
       "    }\n",
       "\n",
       "    .dataframe thead th {\n",
       "        text-align: right;\n",
       "    }\n",
       "</style>\n",
       "<table border=\"1\" class=\"dataframe\">\n",
       "  <thead>\n",
       "    <tr style=\"text-align: right;\">\n",
       "      <th></th>\n",
       "      <th>name</th>\n",
       "      <th>description</th>\n",
       "      <th>sleep</th>\n",
       "      <th>MVPA</th>\n",
       "      <th>light</th>\n",
       "      <th>sedentary</th>\n",
       "      <th>imputed</th>\n",
       "    </tr>\n",
       "  </thead>\n",
       "  <tbody>\n",
       "    <tr>\n",
       "      <th>covered_days</th>\n",
       "      <td>NaN</td>\n",
       "      <td>NaN</td>\n",
       "      <td>False</td>\n",
       "      <td>False</td>\n",
       "      <td>False</td>\n",
       "      <td>False</td>\n",
       "      <td>False</td>\n",
       "    </tr>\n",
       "    <tr>\n",
       "      <th>complete_days_starting_10h</th>\n",
       "      <td>NaN</td>\n",
       "      <td>NaN</td>\n",
       "      <td>False</td>\n",
       "      <td>False</td>\n",
       "      <td>False</td>\n",
       "      <td>False</td>\n",
       "      <td>False</td>\n",
       "    </tr>\n",
       "    <tr>\n",
       "      <th>complete_days_starting_0h</th>\n",
       "      <td>NaN</td>\n",
       "      <td>NaN</td>\n",
       "      <td>False</td>\n",
       "      <td>False</td>\n",
       "      <td>False</td>\n",
       "      <td>False</td>\n",
       "      <td>False</td>\n",
       "    </tr>\n",
       "    <tr>\n",
       "      <th>complete_days_starting_7h</th>\n",
       "      <td>NaN</td>\n",
       "      <td>NaN</td>\n",
       "      <td>False</td>\n",
       "      <td>False</td>\n",
       "      <td>False</td>\n",
       "      <td>False</td>\n",
       "      <td>False</td>\n",
       "    </tr>\n",
       "    <tr>\n",
       "      <th>mean_sleep_hours_perday</th>\n",
       "      <td>NaN</td>\n",
       "      <td>NaN</td>\n",
       "      <td>True</td>\n",
       "      <td>False</td>\n",
       "      <td>False</td>\n",
       "      <td>False</td>\n",
       "      <td>False</td>\n",
       "    </tr>\n",
       "    <tr>\n",
       "      <th>...</th>\n",
       "      <td>...</td>\n",
       "      <td>...</td>\n",
       "      <td>...</td>\n",
       "      <td>...</td>\n",
       "      <td>...</td>\n",
       "      <td>...</td>\n",
       "      <td>...</td>\n",
       "    </tr>\n",
       "    <tr>\n",
       "      <th>mean_N_sleep_intervals_23-07</th>\n",
       "      <td>NaN</td>\n",
       "      <td>identify when a new sequence of activity start...</td>\n",
       "      <td>True</td>\n",
       "      <td>False</td>\n",
       "      <td>False</td>\n",
       "      <td>False</td>\n",
       "      <td>False</td>\n",
       "    </tr>\n",
       "    <tr>\n",
       "      <th>mean_N_light_intervals_23-07</th>\n",
       "      <td>NaN</td>\n",
       "      <td>identify when a new sequence of activity start...</td>\n",
       "      <td>False</td>\n",
       "      <td>False</td>\n",
       "      <td>True</td>\n",
       "      <td>False</td>\n",
       "      <td>False</td>\n",
       "    </tr>\n",
       "    <tr>\n",
       "      <th>mean_N_sedentary_intervals_23-07</th>\n",
       "      <td>NaN</td>\n",
       "      <td>identify when a new sequence of activity start...</td>\n",
       "      <td>False</td>\n",
       "      <td>False</td>\n",
       "      <td>False</td>\n",
       "      <td>True</td>\n",
       "      <td>False</td>\n",
       "    </tr>\n",
       "    <tr>\n",
       "      <th>mean_N_MVPA_intervals_23-07</th>\n",
       "      <td>NaN</td>\n",
       "      <td>identify when a new sequence of activity start...</td>\n",
       "      <td>False</td>\n",
       "      <td>True</td>\n",
       "      <td>False</td>\n",
       "      <td>False</td>\n",
       "      <td>False</td>\n",
       "    </tr>\n",
       "    <tr>\n",
       "      <th>mean_N_imputed_intervals_23-07</th>\n",
       "      <td>NaN</td>\n",
       "      <td>identify when a new sequence of activity start...</td>\n",
       "      <td>False</td>\n",
       "      <td>False</td>\n",
       "      <td>False</td>\n",
       "      <td>False</td>\n",
       "      <td>True</td>\n",
       "    </tr>\n",
       "  </tbody>\n",
       "</table>\n",
       "<p>79 rows × 7 columns</p>\n",
       "</div>"
      ],
      "text/plain": [
       "                                 name  \\\n",
       "covered_days                      NaN   \n",
       "complete_days_starting_10h        NaN   \n",
       "complete_days_starting_0h         NaN   \n",
       "complete_days_starting_7h         NaN   \n",
       "mean_sleep_hours_perday           NaN   \n",
       "...                               ...   \n",
       "mean_N_sleep_intervals_23-07      NaN   \n",
       "mean_N_light_intervals_23-07      NaN   \n",
       "mean_N_sedentary_intervals_23-07  NaN   \n",
       "mean_N_MVPA_intervals_23-07       NaN   \n",
       "mean_N_imputed_intervals_23-07    NaN   \n",
       "\n",
       "                                                                        description  \\\n",
       "covered_days                                                                    NaN   \n",
       "complete_days_starting_10h                                                      NaN   \n",
       "complete_days_starting_0h                                                       NaN   \n",
       "complete_days_starting_7h                                                       NaN   \n",
       "mean_sleep_hours_perday                                                         NaN   \n",
       "...                                                                             ...   \n",
       "mean_N_sleep_intervals_23-07      identify when a new sequence of activity start...   \n",
       "mean_N_light_intervals_23-07      identify when a new sequence of activity start...   \n",
       "mean_N_sedentary_intervals_23-07  identify when a new sequence of activity start...   \n",
       "mean_N_MVPA_intervals_23-07       identify when a new sequence of activity start...   \n",
       "mean_N_imputed_intervals_23-07    identify when a new sequence of activity start...   \n",
       "\n",
       "                                  sleep   MVPA  light  sedentary  imputed  \n",
       "covered_days                      False  False  False      False    False  \n",
       "complete_days_starting_10h        False  False  False      False    False  \n",
       "complete_days_starting_0h         False  False  False      False    False  \n",
       "complete_days_starting_7h         False  False  False      False    False  \n",
       "mean_sleep_hours_perday            True  False  False      False    False  \n",
       "...                                 ...    ...    ...        ...      ...  \n",
       "mean_N_sleep_intervals_23-07       True  False  False      False    False  \n",
       "mean_N_light_intervals_23-07      False  False   True      False    False  \n",
       "mean_N_sedentary_intervals_23-07  False  False  False       True    False  \n",
       "mean_N_MVPA_intervals_23-07       False   True  False      False    False  \n",
       "mean_N_imputed_intervals_23-07    False  False  False      False     True  \n",
       "\n",
       "[79 rows x 7 columns]"
      ]
     },
     "execution_count": 8,
     "metadata": {},
     "output_type": "execute_result"
    }
   ],
   "source": [
    "table"
   ]
  },
  {
   "cell_type": "code",
   "execution_count": 12,
   "id": "incredible-couple",
   "metadata": {},
   "outputs": [],
   "source": [
    "table[~table['description'].isna()][['description','sleep','MVPA','light','sedentary','imputed']].to_csv('/scratch/c.c21013066/data/ukbiobank/phenotypes/accelerometer/derived_features_description.csv')"
   ]
  }
 ],
 "metadata": {
  "kernelspec": {
   "display_name": "Python 3",
   "language": "python",
   "name": "python3"
  },
  "language_info": {
   "codemirror_mode": {
    "name": "ipython",
    "version": 3
   },
   "file_extension": ".py",
   "mimetype": "text/x-python",
   "name": "python",
   "nbconvert_exporter": "python",
   "pygments_lexer": "ipython3",
   "version": "3.8.5"
  }
 },
 "nbformat": 4,
 "nbformat_minor": 5
}
